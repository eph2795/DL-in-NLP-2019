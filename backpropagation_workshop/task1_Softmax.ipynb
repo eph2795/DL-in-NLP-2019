{
 "cells": [
  {
   "cell_type": "markdown",
   "metadata": {},
   "source": [
    "# Softmax exercise\n",
    "\n",
    "In this exercise you will:\n",
    "\n",
    "- implement a fully-vectorized **loss function** for the Softmax classifier\n",
    "- implement the fully-vectorized expression for its **analytic gradient**\n",
    "- **check your implementation** with numerical gradient\n",
    "- use a validation set to **tune the learning rate and regularization** strength\n",
    "- **optimize** the loss function with **SGD**\n",
    "- **visualize** the final learned weights\n",
    "\n",
    "Credit: [cs231n.stanford.edu](http://cs231n.stanford.edu)"
   ]
  },
  {
   "cell_type": "code",
   "execution_count": 1,
   "metadata": {},
   "outputs": [],
   "source": [
    "import random\n",
    "import numpy as np\n",
    "from cs231n.data_utils import load_CIFAR10\n",
    "import matplotlib.pyplot as plt\n",
    "\n",
    "%matplotlib inline\n",
    "plt.rcParams['figure.figsize'] = (10.0, 8.0) # set default size of plots\n",
    "plt.rcParams['image.interpolation'] = 'nearest'\n",
    "plt.rcParams['image.cmap'] = 'gray'\n",
    "\n",
    "# for auto-reloading extenrnal modules\n",
    "# see http://stackoverflow.com/questions/1907993/autoreload-of-modules-in-ipython\n",
    "%load_ext autoreload\n",
    "%autoreload 2"
   ]
  },
  {
   "cell_type": "code",
   "execution_count": 7,
   "metadata": {},
   "outputs": [],
   "source": [
    "def get_CIFAR10_data(num_training=49000, num_validation=1000, num_test=1000, num_dev=500):\n",
    "    \"\"\"\n",
    "    Load the CIFAR-10 dataset from disk and perform preprocessing to prepare\n",
    "    it for the linear classifier.\n",
    "    \"\"\"\n",
    "    # Load the raw CIFAR-10 data\n",
    "    cifar10_dir = 'cs231n/datasets/cifar-10-batches-py'\n",
    "    \n",
    "    X_train, y_train, X_test, y_test = load_CIFAR10(cifar10_dir)\n",
    "    \n",
    "    # subsample the data\n",
    "    mask = list(range(num_training, num_training + num_validation))\n",
    "    X_val = X_train[mask]\n",
    "    y_val = y_train[mask]\n",
    "    mask = list(range(num_training))\n",
    "    X_train = X_train[mask]\n",
    "    y_train = y_train[mask]\n",
    "    mask = list(range(num_test))\n",
    "    X_test = X_test[mask]\n",
    "    y_test = y_test[mask]\n",
    "    mask = np.random.choice(num_training, num_dev, replace=False)\n",
    "    X_dev = X_train[mask]\n",
    "    y_dev = y_train[mask]\n",
    "    \n",
    "    # Preprocessing: reshape the image data into rows\n",
    "    X_train = np.reshape(X_train, (X_train.shape[0], -1))\n",
    "    X_val = np.reshape(X_val, (X_val.shape[0], -1))\n",
    "    X_test = np.reshape(X_test, (X_test.shape[0], -1))\n",
    "    X_dev = np.reshape(X_dev, (X_dev.shape[0], -1))\n",
    "    \n",
    "    # Normalize the data: subtract the mean image\n",
    "    mean_image = np.mean(X_train, axis = 0)\n",
    "    X_train -= mean_image\n",
    "    X_val -= mean_image\n",
    "    X_test -= mean_image\n",
    "    X_dev -= mean_image\n",
    "    \n",
    "    # add bias dimension and transform into columns\n",
    "    X_train = np.hstack([X_train, np.ones((X_train.shape[0], 1))])\n",
    "    X_val = np.hstack([X_val, np.ones((X_val.shape[0], 1))])\n",
    "    X_test = np.hstack([X_test, np.ones((X_test.shape[0], 1))])\n",
    "    X_dev = np.hstack([X_dev, np.ones((X_dev.shape[0], 1))])\n",
    "    \n",
    "    return X_train, y_train, X_val, y_val, X_test, y_test, X_dev, y_dev"
   ]
  },
  {
   "cell_type": "code",
   "execution_count": 10,
   "metadata": {},
   "outputs": [
    {
     "name": "stdout",
     "output_type": "stream",
     "text": [
      "Clear previously loaded data.\n",
      "Train data shape:  (49000, 3073)\n",
      "Train labels shape:  (49000,)\n",
      "Validation data shape:  (1000, 3073)\n",
      "Validation labels shape:  (1000,)\n",
      "Test data shape:  (1000, 3073)\n",
      "Test labels shape:  (1000,)\n",
      "dev data shape:  (500, 3073)\n",
      "dev labels shape:  (500,)\n"
     ]
    }
   ],
   "source": [
    "# Cleaning up variables to prevent loading data multiple times (which may cause memory issue)\n",
    "try:\n",
    "    del X_train, y_train\n",
    "    del X_test, y_test\n",
    "    print('Clear previously loaded data.')\n",
    "except:\n",
    "    pass\n",
    "\n",
    "# Invoke the above function to get our data.\n",
    "X_train, y_train, X_val, y_val, X_test, y_test, X_dev, y_dev = get_CIFAR10_data()\n",
    "print('Train data shape: ', X_train.shape)\n",
    "print('Train labels shape: ', y_train.shape)\n",
    "print('Validation data shape: ', X_val.shape)\n",
    "print('Validation labels shape: ', y_val.shape)\n",
    "print('Test data shape: ', X_test.shape)\n",
    "print('Test labels shape: ', y_test.shape)\n",
    "print('dev data shape: ', X_dev.shape)\n",
    "print('dev labels shape: ', y_dev.shape)"
   ]
  },
  {
   "cell_type": "markdown",
   "metadata": {},
   "source": [
    "## Softmax Classifier\n",
    "\n",
    "Your code for this section will all be written inside **cs231n/classifiers/softmax.py** and **cs231n/classifiers/linear_classifier.py**\n",
    "\n",
    "### Subtask 1\n",
    "First implement the naive softmax loss function with nested loops.\n",
    "Open the file cs231n/classifiers/softmax.py and implement the\n",
    "softmax_loss_naive function."
   ]
  },
  {
   "cell_type": "code",
   "execution_count": 298,
   "metadata": {},
   "outputs": [
    {
     "name": "stdout",
     "output_type": "stream",
     "text": [
      "loss: 2.384665\n",
      "sanity check: 2.302585\n"
     ]
    }
   ],
   "source": [
    "from cs231n.classifiers.softmax import softmax_loss_naive\n",
    "import time\n",
    "\n",
    "# Generate a random softmax weight matrix and use it to compute the loss.\n",
    "W = np.random.randn(3073, 10) * 0.0001\n",
    "loss, grad = softmax_loss_naive(W, X_dev, y_dev, 0.0)\n",
    "\n",
    "# As a rough sanity check, our loss should be something close to -log(0.1).\n",
    "print('loss: %f' % loss)\n",
    "print('sanity check: %f' % (-np.log(0.1)))"
   ]
  },
  {
   "cell_type": "markdown",
   "metadata": {},
   "source": [
    "**Inline Question (1 point)**:\n",
    "Why do we expect our loss to be close to -log(0.1)? Explain briefly.\n",
    "\n",
    "**Your answer:** Случайная инициализация весов даёт на выходе равномерное распределение для 10 классов, величина функции потерь, соответственно, -log(1/N). Поскольку веса инициализируются маленькими числами, вклад регуляризации не ощущается.\n",
    "\n",
    "\n",
    "### Subtask 2 (1 point)\n",
    "Complete the implementation of softmax_loss_naive and implement a (naive)\n",
    "version of the gradient that _uses nested loops_.\n",
    "\n"
   ]
  },
  {
   "cell_type": "code",
   "execution_count": 300,
   "metadata": {},
   "outputs": [
    {
     "name": "stdout",
     "output_type": "stream",
     "text": [
      "numerical: 2.037132 analytic: 2.037131, relative error: 4.594956e-08\n",
      "numerical: -1.731548 analytic: -1.731548, relative error: 5.227468e-09\n",
      "numerical: 4.689851 analytic: 4.689851, relative error: 1.349656e-08\n",
      "numerical: -2.083637 analytic: -2.083637, relative error: 2.672219e-09\n",
      "numerical: 0.936973 analytic: 0.936973, relative error: 2.521093e-08\n",
      "numerical: 0.711421 analytic: 0.711421, relative error: 5.387087e-08\n",
      "numerical: -4.751938 analytic: -4.751938, relative error: 6.244660e-09\n",
      "numerical: 1.230827 analytic: 1.230827, relative error: 1.407872e-08\n",
      "numerical: 2.204561 analytic: 2.204561, relative error: 4.482280e-09\n",
      "numerical: 1.617670 analytic: 1.617670, relative error: 2.212848e-08\n"
     ]
    }
   ],
   "source": [
    "loss, grad = softmax_loss_naive(W, X_dev, y_dev, 0.0)\n",
    "\n",
    "# Use numeric gradient checking as a debugging tool.\n",
    "# The numeric gradient should be close to the analytic gradient.\n",
    "from cs231n.gradient_check import grad_check_sparse\n",
    "f = lambda w: softmax_loss_naive(w, X_dev, y_dev, 0.0)[0]\n",
    "grad_numerical = grad_check_sparse(f, W, grad, 10)"
   ]
  },
  {
   "cell_type": "code",
   "execution_count": 302,
   "metadata": {},
   "outputs": [
    {
     "name": "stdout",
     "output_type": "stream",
     "text": [
      "numerical: -1.413033 analytic: -1.413033, relative error: 2.372370e-08\n",
      "numerical: -0.755695 analytic: -0.755695, relative error: 3.340238e-08\n",
      "numerical: -2.192939 analytic: -2.192939, relative error: 1.200029e-08\n",
      "numerical: 0.967908 analytic: 0.967908, relative error: 2.494970e-09\n",
      "numerical: -2.010672 analytic: -2.010672, relative error: 1.247673e-08\n",
      "numerical: 0.733277 analytic: 0.733277, relative error: 4.287717e-08\n",
      "numerical: 2.138028 analytic: 2.138028, relative error: 5.024526e-08\n",
      "numerical: -2.562628 analytic: -2.562628, relative error: 7.537580e-09\n",
      "numerical: 1.463193 analytic: 1.463193, relative error: 1.189875e-08\n",
      "numerical: 3.323815 analytic: 3.323815, relative error: 1.036259e-08\n"
     ]
    }
   ],
   "source": [
    "# Do another gradient check with regularization\n",
    "loss, grad = softmax_loss_naive(W, X_dev, y_dev, 5e1)\n",
    "f = lambda w: softmax_loss_naive(w, X_dev, y_dev, 5e1)[0]\n",
    "grad_numerical = grad_check_sparse(f, W, grad, 10)"
   ]
  },
  {
   "cell_type": "markdown",
   "metadata": {},
   "source": [
    "### Subtask 3 (4 points)\n",
    "\n",
    "Now that we have a naive implementation of the softmax loss function and its gradient,\n",
    "implement a vectorized version in softmax_loss_vectorized.\n",
    "The two versions should compute the same results, but the vectorized version should be\n",
    "much faster."
   ]
  },
  {
   "cell_type": "code",
   "execution_count": 314,
   "metadata": {},
   "outputs": [
    {
     "name": "stdout",
     "output_type": "stream",
     "text": [
      "naive loss: 2.384665e+00 computed in 0.007441s\n",
      "vectorized loss: 2.384665e+00 computed in 0.003574s\n",
      "Loss difference: 0.000000\n",
      "Gradient difference: 0.000000\n"
     ]
    }
   ],
   "source": [
    "tic = time.time()\n",
    "loss_naive, grad_naive = softmax_loss_naive(W, X_dev, y_dev, 0.000005)\n",
    "toc = time.time()\n",
    "print('naive loss: %e computed in %fs' % (loss_naive, toc - tic))\n",
    "\n",
    "from cs231n.classifiers.softmax import softmax_loss_vectorized\n",
    "tic = time.time()\n",
    "loss_vectorized, grad_vectorized = softmax_loss_vectorized(W, X_dev, y_dev, 0.000005)\n",
    "toc = time.time()\n",
    "print('vectorized loss: %e computed in %fs' % (loss_vectorized, toc - tic))\n",
    "\n",
    "# We use the Frobenius norm to compare the two versions\n",
    "# of the gradient.\n",
    "grad_difference = np.linalg.norm(grad_naive - grad_vectorized, ord='fro')\n",
    "print('Loss difference: %f' % np.abs(loss_naive - loss_vectorized))\n",
    "print('Gradient difference: %f' % grad_difference)"
   ]
  },
  {
   "cell_type": "markdown",
   "metadata": {},
   "source": [
    "### Subtask 4 (2 points)\n",
    "\n",
    "We now have vectorized and efficient expressions for the loss, the gradient and our gradient matches the numerical gradient. We are therefore ready to do SGD to minimize the loss."
   ]
  },
  {
   "cell_type": "code",
   "execution_count": 332,
   "metadata": {
    "scrolled": true
   },
   "outputs": [
    {
     "name": "stdout",
     "output_type": "stream",
     "text": [
      "iteration 0 / 10000: loss 8.187581\n",
      "iteration 100 / 10000: loss 4.655218\n",
      "iteration 200 / 10000: loss 4.198852\n",
      "iteration 300 / 10000: loss 4.038231\n",
      "iteration 400 / 10000: loss 3.931406\n",
      "iteration 500 / 10000: loss 3.837556\n",
      "iteration 600 / 10000: loss 3.646745\n",
      "iteration 700 / 10000: loss 3.535784\n",
      "iteration 800 / 10000: loss 3.511055\n",
      "iteration 900 / 10000: loss 3.520908\n",
      "iteration 1000 / 10000: loss 3.493748\n",
      "iteration 1100 / 10000: loss 3.349541\n",
      "iteration 1200 / 10000: loss 3.326838\n",
      "iteration 1300 / 10000: loss 3.181133\n",
      "iteration 1400 / 10000: loss 3.098490\n",
      "iteration 1500 / 10000: loss 3.062998\n",
      "iteration 1600 / 10000: loss 3.131605\n",
      "iteration 1700 / 10000: loss 3.055597\n",
      "iteration 1800 / 10000: loss 3.007429\n",
      "iteration 1900 / 10000: loss 2.876922\n",
      "iteration 2000 / 10000: loss 2.971048\n",
      "iteration 2100 / 10000: loss 2.853281\n",
      "iteration 2200 / 10000: loss 2.766860\n",
      "iteration 2300 / 10000: loss 2.939671\n",
      "iteration 2400 / 10000: loss 2.699469\n",
      "iteration 2500 / 10000: loss 2.729092\n",
      "iteration 2600 / 10000: loss 2.686397\n",
      "iteration 2700 / 10000: loss 2.598198\n",
      "iteration 2800 / 10000: loss 2.565438\n",
      "iteration 2900 / 10000: loss 2.694423\n",
      "iteration 3000 / 10000: loss 2.546752\n",
      "iteration 3100 / 10000: loss 2.619611\n",
      "iteration 3200 / 10000: loss 2.630706\n",
      "iteration 3300 / 10000: loss 2.479138\n",
      "iteration 3400 / 10000: loss 2.503778\n",
      "iteration 3500 / 10000: loss 2.386156\n",
      "iteration 3600 / 10000: loss 2.471805\n",
      "iteration 3700 / 10000: loss 2.362770\n",
      "iteration 3800 / 10000: loss 2.423157\n",
      "iteration 3900 / 10000: loss 2.427107\n",
      "iteration 4000 / 10000: loss 2.195450\n",
      "iteration 4100 / 10000: loss 2.328677\n",
      "iteration 4200 / 10000: loss 2.332073\n",
      "iteration 4300 / 10000: loss 2.345116\n",
      "iteration 4400 / 10000: loss 2.355452\n",
      "iteration 4500 / 10000: loss 2.192287\n",
      "iteration 4600 / 10000: loss 2.340850\n",
      "iteration 4700 / 10000: loss 2.267379\n",
      "iteration 4800 / 10000: loss 2.110609\n",
      "iteration 4900 / 10000: loss 2.403410\n",
      "iteration 5000 / 10000: loss 2.154498\n",
      "iteration 5100 / 10000: loss 2.013216\n",
      "iteration 5200 / 10000: loss 2.180135\n",
      "iteration 5300 / 10000: loss 2.258845\n",
      "iteration 5400 / 10000: loss 2.112184\n",
      "iteration 5500 / 10000: loss 2.082487\n",
      "iteration 5600 / 10000: loss 2.037699\n",
      "iteration 5700 / 10000: loss 2.118790\n",
      "iteration 5800 / 10000: loss 2.172931\n",
      "iteration 5900 / 10000: loss 1.991626\n",
      "iteration 6000 / 10000: loss 2.120555\n",
      "iteration 6100 / 10000: loss 2.120185\n",
      "iteration 6200 / 10000: loss 1.951174\n",
      "iteration 6300 / 10000: loss 2.078522\n",
      "iteration 6400 / 10000: loss 1.881543\n",
      "iteration 6500 / 10000: loss 2.044391\n",
      "iteration 6600 / 10000: loss 2.069618\n",
      "iteration 6700 / 10000: loss 2.003749\n",
      "iteration 6800 / 10000: loss 2.014996\n",
      "iteration 6900 / 10000: loss 2.045834\n",
      "iteration 7000 / 10000: loss 1.863114\n",
      "iteration 7100 / 10000: loss 1.987423\n",
      "iteration 7200 / 10000: loss 1.903286\n",
      "iteration 7300 / 10000: loss 2.004759\n",
      "iteration 7400 / 10000: loss 2.055403\n",
      "iteration 7500 / 10000: loss 1.938710\n",
      "iteration 7600 / 10000: loss 2.044808\n",
      "iteration 7700 / 10000: loss 1.887008\n",
      "iteration 7800 / 10000: loss 1.947541\n",
      "iteration 7900 / 10000: loss 1.916915\n",
      "iteration 8000 / 10000: loss 1.998463\n",
      "iteration 8100 / 10000: loss 1.936826\n",
      "iteration 8200 / 10000: loss 1.972135\n",
      "iteration 8300 / 10000: loss 1.896823\n",
      "iteration 8400 / 10000: loss 1.990224\n",
      "iteration 8500 / 10000: loss 1.782030\n",
      "iteration 8600 / 10000: loss 1.827312\n",
      "iteration 8700 / 10000: loss 1.939425\n",
      "iteration 8800 / 10000: loss 1.809509\n",
      "iteration 8900 / 10000: loss 1.775614\n",
      "iteration 9000 / 10000: loss 1.813935\n",
      "iteration 9100 / 10000: loss 1.897985\n",
      "iteration 9200 / 10000: loss 1.838420\n",
      "iteration 9300 / 10000: loss 1.938420\n",
      "iteration 9400 / 10000: loss 1.767743\n",
      "iteration 9500 / 10000: loss 1.918821\n",
      "iteration 9600 / 10000: loss 1.732116\n",
      "iteration 9700 / 10000: loss 1.860463\n",
      "iteration 9800 / 10000: loss 1.799837\n",
      "iteration 9900 / 10000: loss 1.859026\n",
      "That took 45.928490s\n"
     ]
    }
   ],
   "source": [
    "# In the file linear_classifier.py, implement SGD in the function\n",
    "# LinearClassifier.train() and then run it with the code below.\n",
    "from cs231n.classifiers import Softmax\n",
    "model = Softmax()\n",
    "tic = time.time()\n",
    "loss_hist = model.train(X_train, y_train, learning_rate=1e-6, reg=2.5e4,\n",
    "                        num_iters=10000, verbose=True)\n",
    "toc = time.time()\n",
    "print('That took %fs' % (toc - tic))"
   ]
  },
  {
   "cell_type": "code",
   "execution_count": 333,
   "metadata": {},
   "outputs": [
    {
     "data": {
      "image/png": "[encoded data removed]",
      "text/plain": [
       "<Figure size 432x288 with 1 Axes>"
      ]
     },
     "metadata": {
      "needs_background": "light"
     },
     "output_type": "display_data"
    }
   ],
   "source": [
    "# A useful debugging strategy is to plot the loss as a function of\n",
    "# iteration number:\n",
    "plt.plot(loss_hist)\n",
    "plt.xlabel('Iteration number')\n",
    "plt.ylabel('Loss value')\n",
    "plt.show()"
   ]
  },
  {
   "cell_type": "code",
   "execution_count": 336,
   "metadata": {},
   "outputs": [
    {
     "name": "stdout",
     "output_type": "stream",
     "text": [
      "training accuracy: 0.437918\n",
      "validation accuracy: 0.400000\n"
     ]
    }
   ],
   "source": [
    "# Write the LinearClassifier.predict function and evaluate the performance on both the\n",
    "# training and validation set\n",
    "y_train_pred = model.predict(X_train)\n",
    "print('training accuracy: %f' % (np.mean(y_train == y_train_pred), ))\n",
    "y_val_pred = model.predict(X_val)\n",
    "print('validation accuracy: %f' % (np.mean(y_val == y_val_pred), ))"
   ]
  },
  {
   "cell_type": "markdown",
   "metadata": {},
   "source": [
    "### Subtask 5 (2 points)\n",
    "\n",
    "Use the validation set to tune hyperparameters (regularization strength and\n",
    "learning rate). You should experiment with different ranges for the learning\n",
    "rates and regularization strengths; if you are careful you should be able to\n",
    "get a classification accuracy of over 0.35 on the validation set."
   ]
  },
  {
   "cell_type": "code",
   "execution_count": 351,
   "metadata": {},
   "outputs": [
    {
     "name": "stdout",
     "output_type": "stream",
     "text": [
      "Current best validation accuracy: 0.233\n",
      "Current best validation accuracy: 0.27\n",
      "Current best validation accuracy: 0.383\n",
      "Current best validation accuracy: 0.402\n",
      "Current best validation accuracy: 0.426\n"
     ]
    }
   ],
   "source": [
    "num_iters = 5000\n",
    "learning_rates = [5e-5, 1e-6, 5e-6, 1e-7, 5e-7]\n",
    "regularization_strengths = [1e4, 2.5e4, 5e4, 7.5e4, 1e5]\n",
    "\n",
    "# results is dictionary mapping tuples of the form\n",
    "# (learning_rate, regularization_strength) to tuples of the form\n",
    "# (training_accuracy, validation_accuracy). The accuracy is simply the fraction\n",
    "# of data points that are correctly classified.\n",
    "results = {}\n",
    "best_val = -1       # The highest validation accuracy that we have seen so far.\n",
    "best_softmax = None # The Softmax object that achieved the highest validation rate.\n",
    "\n",
    "################################################################################\n",
    "# TODO:                                                                        #\n",
    "# Write code that chooses the best hyperparameters by tuning on the validation #\n",
    "# set. For each combination of hyperparameters, train a Softmax clf on the     #\n",
    "# training set, compute its accuracy on the training and validation sets, and  #\n",
    "# store these numbers in the results dictionary. In addition, store the best   #\n",
    "# validation accuracy in best_val and the Softmax object that achieves this    #\n",
    "# accuracy in best_softmax.                                                    #\n",
    "#                                                                              #\n",
    "# Hint: You should use a small value for num_iters as you develop your         #\n",
    "# validation code so that the Softmax don't take much time to train; once you  #\n",
    "# are confident that your validation code works, you should rerun the          #\n",
    "# validation code with a larger value for num_iters.                           #\n",
    "################################################################################\n",
    "\n",
    "for lr in learning_rates:\n",
    "    for reg in regularization_strengths:\n",
    "        model = Softmax()\n",
    "        loss_hist = model.train(X_train, y_train, learning_rate=lr, reg=reg,\n",
    "                                num_iters=num_iters, verbose=False)\n",
    "        y_train_pred = model.predict(X_train)\n",
    "        y_val_pred = model.predict(X_val)\n",
    "        train_acc = np.mean(y_train == y_train_pred)\n",
    "        val_acc = np.mean(y_val == y_val_pred)\n",
    "        results[lr, reg] = train_acc, val_acc\n",
    "        if val_acc > best_val:\n",
    "            print('Current best validation accuracy: {:.4}'.format(val_acc))\n",
    "            best_val = val_acc\n",
    "            best_softmax = model\n",
    "################################################################################\n",
    "#                              END OF YOUR CODE                                #\n",
    "################################################################################"
   ]
  },
  {
   "cell_type": "code",
   "execution_count": 352,
   "metadata": {},
   "outputs": [
    {
     "name": "stdout",
     "output_type": "stream",
     "text": [
      "lr 1.000000e-07 reg 1.000000e+04 train accuracy: 0.302796 val accuracy: 0.283000\n",
      "lr 1.000000e-07 reg 2.500000e+04 train accuracy: 0.304224 val accuracy: 0.301000\n",
      "lr 1.000000e-07 reg 5.000000e+04 train accuracy: 0.308857 val accuracy: 0.287000\n",
      "lr 1.000000e-07 reg 7.500000e+04 train accuracy: 0.313816 val accuracy: 0.314000\n",
      "lr 1.000000e-07 reg 1.000000e+05 train accuracy: 0.318694 val accuracy: 0.318000\n",
      "lr 5.000000e-07 reg 1.000000e+04 train accuracy: 0.377224 val accuracy: 0.372000\n",
      "lr 5.000000e-07 reg 2.500000e+04 train accuracy: 0.392122 val accuracy: 0.389000\n",
      "lr 5.000000e-07 reg 5.000000e+04 train accuracy: 0.404306 val accuracy: 0.400000\n",
      "lr 5.000000e-07 reg 7.500000e+04 train accuracy: 0.408694 val accuracy: 0.407000\n",
      "lr 5.000000e-07 reg 1.000000e+05 train accuracy: 0.413898 val accuracy: 0.393000\n",
      "lr 1.000000e-06 reg 1.000000e+04 train accuracy: 0.403490 val accuracy: 0.383000\n",
      "lr 1.000000e-06 reg 2.500000e+04 train accuracy: 0.419327 val accuracy: 0.402000\n",
      "lr 1.000000e-06 reg 5.000000e+04 train accuracy: 0.423163 val accuracy: 0.402000\n",
      "lr 1.000000e-06 reg 7.500000e+04 train accuracy: 0.426531 val accuracy: 0.426000\n",
      "lr 1.000000e-06 reg 1.000000e+05 train accuracy: 0.420939 val accuracy: 0.402000\n",
      "lr 5.000000e-06 reg 1.000000e+04 train accuracy: 0.407061 val accuracy: 0.374000\n",
      "lr 5.000000e-06 reg 2.500000e+04 train accuracy: 0.397102 val accuracy: 0.372000\n",
      "lr 5.000000e-06 reg 5.000000e+04 train accuracy: 0.392490 val accuracy: 0.370000\n",
      "lr 5.000000e-06 reg 7.500000e+04 train accuracy: 0.384633 val accuracy: 0.384000\n",
      "lr 5.000000e-06 reg 1.000000e+05 train accuracy: 0.386878 val accuracy: 0.387000\n",
      "lr 5.000000e-05 reg 1.000000e+04 train accuracy: 0.231898 val accuracy: 0.233000\n",
      "lr 5.000000e-05 reg 2.500000e+04 train accuracy: 0.267163 val accuracy: 0.270000\n",
      "lr 5.000000e-05 reg 5.000000e+04 train accuracy: 0.245224 val accuracy: 0.269000\n",
      "lr 5.000000e-05 reg 7.500000e+04 train accuracy: 0.244286 val accuracy: 0.256000\n",
      "lr 5.000000e-05 reg 1.000000e+05 train accuracy: 0.232510 val accuracy: 0.233000\n",
      "best validation accuracy achieved during cross-validation: 0.426000\n"
     ]
    }
   ],
   "source": [
    "# Print out results.\n",
    "for lr, reg in sorted(results):\n",
    "    train_accuracy, val_accuracy = results[(lr, reg)]\n",
    "    print('lr %e reg %e train accuracy: %f val accuracy: %f' % (\n",
    "                lr, reg, train_accuracy, val_accuracy))\n",
    "    \n",
    "print('best validation accuracy achieved during cross-validation: %f' % best_val)"
   ]
  },
  {
   "cell_type": "code",
   "execution_count": 353,
   "metadata": {},
   "outputs": [
    {
     "name": "stdout",
     "output_type": "stream",
     "text": [
      "softmax on raw pixels final test set accuracy: 0.397000\n"
     ]
    }
   ],
   "source": [
    "# evaluate on test set\n",
    "# Evaluate the best softmax on test set\n",
    "y_test_pred = best_softmax.predict(X_test)\n",
    "test_accuracy = np.mean(y_test == y_test_pred)\n",
    "print('softmax on raw pixels final test set accuracy: %f' % (test_accuracy, ))"
   ]
  },
  {
   "cell_type": "code",
   "execution_count": 354,
   "metadata": {},
   "outputs": [
    {
     "data": {
      "image/png": "[encoded data removed]",
      "text/plain": [
       "<Figure size 432x288 with 10 Axes>"
      ]
     },
     "metadata": {
      "needs_background": "light"
     },
     "output_type": "display_data"
    }
   ],
   "source": [
    "# Visualize the learned weights for each class\n",
    "w = best_softmax.W[:-1,:] # strip out the bias\n",
    "w = w.reshape(32, 32, 3, 10)\n",
    "\n",
    "w_min, w_max = np.min(w), np.max(w)\n",
    "\n",
    "classes = ['plane', 'car', 'bird', 'cat', 'deer', 'dog', 'frog', 'horse', 'ship', 'truck']\n",
    "for i in range(10):\n",
    "    plt.subplot(2, 5, i + 1)\n",
    "    \n",
    "    # Rescale the weights to be between 0 and 255\n",
    "    wimg = 255.0 * (w[:, :, :, i].squeeze() - w_min) / (w_max - w_min)\n",
    "    plt.imshow(wimg.astype('uint8'))\n",
    "    plt.axis('off')\n",
    "    plt.title(classes[i])"
   ]
  },
  {
   "cell_type": "markdown",
   "metadata": {},
   "source": [
    "#### Max score: 10 points"
   ]
  }
 ],
 "metadata": {
  "kernelspec": {
   "display_name": "Python 3",
   "language": "python",
   "name": "python3"
  },
  "language_info": {
   "codemirror_mode": {
    "name": "ipython",
    "version": 3
   },
   "file_extension": ".py",
   "mimetype": "text/x-python",
   "name": "python",
   "nbconvert_exporter": "python",
   "pygments_lexer": "ipython3",
   "version": "3.5.2"
  }
 },
 "nbformat": 4,
 "nbformat_minor": 2
}
