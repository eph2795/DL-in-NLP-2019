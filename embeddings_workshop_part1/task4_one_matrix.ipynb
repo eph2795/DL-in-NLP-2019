{
 "cells": [
  {
   "cell_type": "markdown",
   "metadata": {},
   "source": [
    "# Word2vec only with one matrix\n",
    "\n",
    "Choose CBOW/Skip-Gram again. Implement it, but now without second `h_dim x vocab_size` matrix. Remember what was the loss function in Stanford lecture.\n",
    "\n",
    "$$ L = - \\frac{1}{T} \\sum_{t=1}^T \\sum_{-m <= j <= m, j \\ne 0} log P(w_{t+j}|w_{t+j-m})$$\n",
    "\n",
    "\n",
    "$$ P(w_h | w_i) = \\frac{exp(s(v_i, v_h))}{\\sum exp(s(v_i, v_w))}$$\n",
    "\n",
    "Where $s(x, y)$ is a similarity function. It is common to use dot-product here $s(x, y) = s^Ty$. The sum in the denominator is across all vocabulary for $P$ to be a probability distribution.\n",
    "\n",
    "Look to this formula closer. There is no projection back to vocabulary dimension in the loss! So, we can reduce the number of parameters by the factor of two by not using the second matrix $W'$. Your new task is to code CBOW / SkipGram with this loss.\n",
    "\n",
    "**Main idea:**\n",
    "\n",
    "We project word vectors to some space. Next, we work with the space itself. We update projection matrix weights so that similar (in the terms of Distributional semantics) words have similar vectors in that space. We don't need to solve classification task explicitly here.\n",
    "\n",
    "**Tip:**\n",
    "\n",
    "Work with matrix operations and not with nn.layers / keras.layers.\n",
    "\n",
    "**Results of this task** (the very same as in task 3):\n",
    " * trained word vectors (mention somewhere, how long it took to train)\n",
    " * plotted loss (so we can see that it has converged)\n",
    " * function to map token to corresponding word vector\n",
    " * beautiful visualizations (PCE, T-SNE), you can use TensorBoard and play with your vectors in 3D (don't forget to add screenshots to the task)\n",
    " * qualitative evaluations of word vectors: nearest neighbors, word analogies\n",
    "\n",
    "\n",
    "**Extra:**\n",
    " * quantitative evaluation:\n",
    "   * for intrinsic evaluation you can find datasets [here](https://aclweb.org/aclwiki/Analogy_(State_of_the_art))\n",
    "   * for extrincis evaluation you can use [these](https://medium.com/@dataturks/rare-text-classification-open-datasets-9d340c8c508e)\n",
    "\n",
    "\n",
    "\n",
    "Supplementary materials:\n",
    "  * [cs224n winter 2017 lecture 2 video](https://www.youtube.com/watch?v=ERibwqs9p38&list=PL3FW7Lu3i5Jsnh1rnUwq_TcylNr7EkRe6&index=2)\n",
    "  * [cs224n winter 2019 lecture 1 slides](http://web.stanford.edu/class/cs224n/slides/cs224n-2019-lecture01-wordvecs1.pdf)"
   ]
  },
  {
   "cell_type": "code",
   "execution_count": 1,
   "metadata": {},
   "outputs": [],
   "source": [
    "import numpy as np\n",
    "from tqdm import tqdm\n",
    "import matplotlib.pyplot as plt"
   ]
  },
  {
   "cell_type": "code",
   "execution_count": 2,
   "metadata": {},
   "outputs": [],
   "source": [
    "import torch\n",
    "from torch import nn\n",
    "from torch import optim\n",
    "from torch.nn.init import kaiming_normal_"
   ]
  },
  {
   "cell_type": "code",
   "execution_count": 3,
   "metadata": {},
   "outputs": [],
   "source": [
    "from part1 import plot_embeddings"
   ]
  },
  {
   "cell_type": "code",
   "execution_count": 4,
   "metadata": {},
   "outputs": [],
   "source": [
    "from part2 import process_corpus, build_vocab, CBOWBatcher"
   ]
  },
  {
   "cell_type": "code",
   "execution_count": 22,
   "metadata": {},
   "outputs": [],
   "source": [
    "from part3 import get_encode_emb"
   ]
  },
  {
   "cell_type": "code",
   "execution_count": 5,
   "metadata": {},
   "outputs": [],
   "source": [
    "from part4 import CBOW_one_matrix"
   ]
  },
  {
   "cell_type": "code",
   "execution_count": 6,
   "metadata": {},
   "outputs": [],
   "source": [
    "batcher = CBOWBatcher(batch_size=128, window_size=5, shuffle=True)"
   ]
  },
  {
   "cell_type": "code",
   "execution_count": 7,
   "metadata": {},
   "outputs": [],
   "source": [
    "corpus = process_corpus('text8')"
   ]
  },
  {
   "cell_type": "code",
   "execution_count": 8,
   "metadata": {},
   "outputs": [],
   "source": [
    "vocab = build_vocab(corpus, min_freq=5)"
   ]
  },
  {
   "cell_type": "code",
   "execution_count": 9,
   "metadata": {},
   "outputs": [],
   "source": [
    "batcher.init(corpus, vocab)"
   ]
  },
  {
   "cell_type": "markdown",
   "metadata": {},
   "source": [
    "## Training loop"
   ]
  },
  {
   "cell_type": "code",
   "execution_count": 10,
   "metadata": {},
   "outputs": [],
   "source": [
    "device = 'cuda:0' if torch.cuda.is_available() else 'cpu'"
   ]
  },
  {
   "cell_type": "code",
   "execution_count": 11,
   "metadata": {},
   "outputs": [],
   "source": [
    "model = CBOW_one_matrix(vocab_size=len(vocab), hidden_size=300, device=device)"
   ]
  },
  {
   "cell_type": "code",
   "execution_count": 12,
   "metadata": {},
   "outputs": [],
   "source": [
    "optimizer = optim.SGD(params=model.parameters(),\n",
    "                      lr=1e-2, momentum=0.9, weight_decay=1e-6)"
   ]
  },
  {
   "cell_type": "code",
   "execution_count": 13,
   "metadata": {},
   "outputs": [],
   "source": [
    "CE_loss = nn.CrossEntropyLoss()"
   ]
  },
  {
   "cell_type": "code",
   "execution_count": 14,
   "metadata": {},
   "outputs": [
    {
     "name": "stderr",
     "output_type": "stream",
     "text": [
      "10018it [01:40, 100.63it/s]"
     ]
    },
    {
     "name": "stdout",
     "output_type": "stream",
     "text": [
      "7.323787978553772\n"
     ]
    },
    {
     "name": "stderr",
     "output_type": "stream",
     "text": [
      "20017it [03:19, 100.49it/s]"
     ]
    },
    {
     "name": "stdout",
     "output_type": "stream",
     "text": [
      "6.796564934062958\n"
     ]
    },
    {
     "name": "stderr",
     "output_type": "stream",
     "text": [
      "30016it [04:58, 100.78it/s]"
     ]
    },
    {
     "name": "stdout",
     "output_type": "stream",
     "text": [
      "6.587090650892257\n"
     ]
    },
    {
     "name": "stderr",
     "output_type": "stream",
     "text": [
      "40015it [06:37, 100.59it/s]"
     ]
    },
    {
     "name": "stdout",
     "output_type": "stream",
     "text": [
      "6.451737609863281\n"
     ]
    },
    {
     "name": "stderr",
     "output_type": "stream",
     "text": [
      "50014it [08:17, 100.46it/s]"
     ]
    },
    {
     "name": "stdout",
     "output_type": "stream",
     "text": [
      "6.386333142375946\n"
     ]
    },
    {
     "name": "stderr",
     "output_type": "stream",
     "text": [
      "60013it [09:56, 100.61it/s]"
     ]
    },
    {
     "name": "stdout",
     "output_type": "stream",
     "text": [
      "6.322166442918777\n"
     ]
    },
    {
     "name": "stderr",
     "output_type": "stream",
     "text": [
      "80011it [13:14, 100.43it/s]"
     ]
    },
    {
     "name": "stdout",
     "output_type": "stream",
     "text": [
      "6.256414562511444\n"
     ]
    },
    {
     "name": "stderr",
     "output_type": "stream",
     "text": [
      "90016it [14:54, 100.56it/s]"
     ]
    },
    {
     "name": "stdout",
     "output_type": "stream",
     "text": [
      "6.219307860708237\n"
     ]
    },
    {
     "name": "stderr",
     "output_type": "stream",
     "text": [
      "100015it [16:33, 100.53it/s]"
     ]
    },
    {
     "name": "stdout",
     "output_type": "stream",
     "text": [
      "6.208196391773224\n"
     ]
    },
    {
     "name": "stderr",
     "output_type": "stream",
     "text": [
      "104701it [17:19, 100.67it/s]IOPub message rate exceeded.\n",
      "The notebook server will temporarily stop sending output\n",
      "to the client in order to avoid crashing it.\n",
      "To change this limit, set the config variable\n",
      "`--NotebookApp.iopub_msg_rate_limit`.\n",
      "\n",
      "Current values:\n",
      "NotebookApp.iopub_msg_rate_limit=1000.0 (msgs/sec)\n",
      "NotebookApp.rate_limit_window=3.0 (secs)\n",
      "\n",
      "70016it [11:35, 100.56it/s]"
     ]
    },
    {
     "name": "stdout",
     "output_type": "stream",
     "text": [
      "6.087062516593933\n"
     ]
    },
    {
     "name": "stderr",
     "output_type": "stream",
     "text": [
      "80015it [13:14, 100.59it/s]"
     ]
    },
    {
     "name": "stdout",
     "output_type": "stream",
     "text": [
      "6.081265620422363\n"
     ]
    },
    {
     "name": "stderr",
     "output_type": "stream",
     "text": [
      "90014it [14:54, 100.54it/s]"
     ]
    },
    {
     "name": "stdout",
     "output_type": "stream",
     "text": [
      "6.066199436712265\n"
     ]
    },
    {
     "name": "stderr",
     "output_type": "stream",
     "text": [
      "95349it [15:47, 100.72it/s]IOPub message rate exceeded.\n",
      "The notebook server will temporarily stop sending output\n",
      "to the client in order to avoid crashing it.\n",
      "To change this limit, set the config variable\n",
      "`--NotebookApp.iopub_msg_rate_limit`.\n",
      "\n",
      "Current values:\n",
      "NotebookApp.iopub_msg_rate_limit=1000.0 (msgs/sec)\n",
      "NotebookApp.rate_limit_window=3.0 (secs)\n",
      "\n",
      "60017it [09:56, 100.45it/s]"
     ]
    },
    {
     "name": "stdout",
     "output_type": "stream",
     "text": [
      "6.027674404335022\n"
     ]
    },
    {
     "name": "stderr",
     "output_type": "stream",
     "text": [
      "70016it [11:35, 100.58it/s]"
     ]
    },
    {
     "name": "stdout",
     "output_type": "stream",
     "text": [
      "6.024823533391952\n"
     ]
    },
    {
     "name": "stderr",
     "output_type": "stream",
     "text": [
      "80015it [13:15, 100.53it/s]"
     ]
    },
    {
     "name": "stdout",
     "output_type": "stream",
     "text": [
      "6.013309039926529\n"
     ]
    },
    {
     "name": "stderr",
     "output_type": "stream",
     "text": [
      "83348it [13:48, 100.89it/s]IOPub message rate exceeded.\n",
      "The notebook server will temporarily stop sending output\n",
      "to the client in order to avoid crashing it.\n",
      "To change this limit, set the config variable\n",
      "`--NotebookApp.iopub_msg_rate_limit`.\n",
      "\n",
      "Current values:\n",
      "NotebookApp.iopub_msg_rate_limit=1000.0 (msgs/sec)\n",
      "NotebookApp.rate_limit_window=3.0 (secs)\n",
      "\n",
      "40018it [06:38, 100.59it/s]"
     ]
    },
    {
     "name": "stdout",
     "output_type": "stream",
     "text": [
      "5.9865939629554745\n"
     ]
    },
    {
     "name": "stderr",
     "output_type": "stream",
     "text": [
      "50017it [08:17, 100.61it/s]"
     ]
    },
    {
     "name": "stdout",
     "output_type": "stream",
     "text": [
      "5.9865534435749055\n"
     ]
    },
    {
     "name": "stderr",
     "output_type": "stream",
     "text": [
      "60016it [09:56, 100.52it/s]"
     ]
    },
    {
     "name": "stdout",
     "output_type": "stream",
     "text": [
      "5.9827552557468415\n"
     ]
    },
    {
     "name": "stderr",
     "output_type": "stream",
     "text": [
      "63019it [10:26, 100.79it/s]IOPub message rate exceeded.\n",
      "The notebook server will temporarily stop sending output\n",
      "to the client in order to avoid crashing it.\n",
      "To change this limit, set the config variable\n",
      "`--NotebookApp.iopub_msg_rate_limit`.\n",
      "\n",
      "Current values:\n",
      "NotebookApp.iopub_msg_rate_limit=1000.0 (msgs/sec)\n",
      "NotebookApp.rate_limit_window=3.0 (secs)\n",
      "\n",
      "20010it [03:19, 100.25it/s]"
     ]
    },
    {
     "name": "stdout",
     "output_type": "stream",
     "text": [
      "5.9504458548069\n"
     ]
    },
    {
     "name": "stderr",
     "output_type": "stream",
     "text": [
      "30020it [04:59, 100.41it/s]"
     ]
    },
    {
     "name": "stdout",
     "output_type": "stream",
     "text": [
      "5.950450569105148\n"
     ]
    },
    {
     "name": "stderr",
     "output_type": "stream",
     "text": [
      "40019it [06:38, 100.63it/s]"
     ]
    },
    {
     "name": "stdout",
     "output_type": "stream",
     "text": [
      "5.94611313123703\n"
     ]
    },
    {
     "name": "stderr",
     "output_type": "stream",
     "text": [
      "50018it [08:17, 100.33it/s]"
     ]
    },
    {
     "name": "stdout",
     "output_type": "stream",
     "text": [
      "5.9453980809688565\n"
     ]
    },
    {
     "name": "stderr",
     "output_type": "stream",
     "text": [
      "50502it [08:22, 100.71it/s]IOPub message rate exceeded.\n",
      "The notebook server will temporarily stop sending output\n",
      "to the client in order to avoid crashing it.\n",
      "To change this limit, set the config variable\n",
      "`--NotebookApp.iopub_msg_rate_limit`.\n",
      "\n",
      "Current values:\n",
      "NotebookApp.iopub_msg_rate_limit=1000.0 (msgs/sec)\n",
      "NotebookApp.rate_limit_window=3.0 (secs)\n",
      "\n",
      "132873it [22:00, 100.62it/s]\n",
      "10011it [01:40, 100.50it/s]"
     ]
    },
    {
     "name": "stdout",
     "output_type": "stream",
     "text": [
      "5.926531767892837\n"
     ]
    },
    {
     "name": "stderr",
     "output_type": "stream",
     "text": [
      "20010it [03:19, 100.42it/s]"
     ]
    },
    {
     "name": "stdout",
     "output_type": "stream",
     "text": [
      "5.915893394041062\n"
     ]
    },
    {
     "name": "stderr",
     "output_type": "stream",
     "text": [
      "30020it [04:59, 100.47it/s]"
     ]
    },
    {
     "name": "stdout",
     "output_type": "stream",
     "text": [
      "5.917127075815201\n"
     ]
    },
    {
     "name": "stderr",
     "output_type": "stream",
     "text": [
      "32110it [05:19, 100.70it/s]IOPub message rate exceeded.\n",
      "The notebook server will temporarily stop sending output\n",
      "to the client in order to avoid crashing it.\n",
      "To change this limit, set the config variable\n",
      "`--NotebookApp.iopub_msg_rate_limit`.\n",
      "\n",
      "Current values:\n",
      "NotebookApp.iopub_msg_rate_limit=1000.0 (msgs/sec)\n",
      "NotebookApp.rate_limit_window=3.0 (secs)\n",
      "\n",
      "120011it [19:52, 100.53it/s]"
     ]
    },
    {
     "name": "stdout",
     "output_type": "stream",
     "text": [
      "5.898116883039474\n"
     ]
    },
    {
     "name": "stderr",
     "output_type": "stream",
     "text": [
      "124444it [20:36, 100.59it/s]IOPub message rate exceeded.\n",
      "The notebook server will temporarily stop sending output\n",
      "to the client in order to avoid crashing it.\n",
      "To change this limit, set the config variable\n",
      "`--NotebookApp.iopub_msg_rate_limit`.\n",
      "\n",
      "Current values:\n",
      "NotebookApp.iopub_msg_rate_limit=1000.0 (msgs/sec)\n",
      "NotebookApp.rate_limit_window=3.0 (secs)\n",
      "\n",
      "10011it [01:40, 100.48it/s]"
     ]
    },
    {
     "name": "stdout",
     "output_type": "stream",
     "text": [
      "5.889846220874786\n"
     ]
    },
    {
     "name": "stderr",
     "output_type": "stream",
     "text": [
      "19603it [03:15, 100.61it/s]IOPub message rate exceeded.\n",
      "The notebook server will temporarily stop sending output\n",
      "to the client in order to avoid crashing it.\n",
      "To change this limit, set the config variable\n",
      "`--NotebookApp.iopub_msg_rate_limit`.\n",
      "\n",
      "Current values:\n",
      "NotebookApp.iopub_msg_rate_limit=1000.0 (msgs/sec)\n",
      "NotebookApp.rate_limit_window=3.0 (secs)\n",
      "\n",
      "100013it [16:34, 100.46it/s]"
     ]
    },
    {
     "name": "stdout",
     "output_type": "stream",
     "text": [
      "5.880574603414535\n"
     ]
    },
    {
     "name": "stderr",
     "output_type": "stream",
     "text": [
      "110012it [18:13, 100.47it/s]"
     ]
    },
    {
     "name": "stdout",
     "output_type": "stream",
     "text": [
      "5.874512754917145\n"
     ]
    },
    {
     "name": "stderr",
     "output_type": "stream",
     "text": [
      "111079it [18:24, 100.68it/s]IOPub message rate exceeded.\n",
      "The notebook server will temporarily stop sending output\n",
      "to the client in order to avoid crashing it.\n",
      "To change this limit, set the config variable\n",
      "`--NotebookApp.iopub_msg_rate_limit`.\n",
      "\n",
      "Current values:\n",
      "NotebookApp.iopub_msg_rate_limit=1000.0 (msgs/sec)\n",
      "NotebookApp.rate_limit_window=3.0 (secs)\n",
      "\n",
      "130010it [21:32, 100.44it/s]"
     ]
    },
    {
     "name": "stdout",
     "output_type": "stream",
     "text": [
      "5.871845334434509\n"
     ]
    },
    {
     "name": "stderr",
     "output_type": "stream",
     "text": [
      "132873it [22:01, 100.58it/s]\n",
      "6645it [01:06, 100.78it/s]IOPub message rate exceeded.\n",
      "The notebook server will temporarily stop sending output\n",
      "to the client in order to avoid crashing it.\n",
      "To change this limit, set the config variable\n",
      "`--NotebookApp.iopub_msg_rate_limit`.\n",
      "\n",
      "Current values:\n",
      "NotebookApp.iopub_msg_rate_limit=1000.0 (msgs/sec)\n",
      "NotebookApp.rate_limit_window=3.0 (secs)\n",
      "\n",
      "90014it [14:55, 100.47it/s]"
     ]
    },
    {
     "name": "stdout",
     "output_type": "stream",
     "text": [
      "5.853106180524826\n"
     ]
    },
    {
     "name": "stderr",
     "output_type": "stream",
     "text": [
      "97373it [16:08, 100.78it/s]IOPub message rate exceeded.\n",
      "The notebook server will temporarily stop sending output\n",
      "to the client in order to avoid crashing it.\n",
      "To change this limit, set the config variable\n",
      "`--NotebookApp.iopub_msg_rate_limit`.\n",
      "\n",
      "Current values:\n",
      "NotebookApp.iopub_msg_rate_limit=1000.0 (msgs/sec)\n",
      "NotebookApp.rate_limit_window=3.0 (secs)\n",
      "\n",
      "110012it [18:13, 100.51it/s]"
     ]
    },
    {
     "name": "stdout",
     "output_type": "stream",
     "text": [
      "5.848271618318558\n"
     ]
    },
    {
     "name": "stderr",
     "output_type": "stream",
     "text": [
      "120011it [19:52, 100.40it/s]"
     ]
    },
    {
     "name": "stdout",
     "output_type": "stream",
     "text": [
      "5.843963623476029\n"
     ]
    },
    {
     "name": "stderr",
     "output_type": "stream",
     "text": [
      "125874it [20:51, 100.57it/s]IOPub message rate exceeded.\n",
      "The notebook server will temporarily stop sending output\n",
      "to the client in order to avoid crashing it.\n",
      "To change this limit, set the config variable\n",
      "`--NotebookApp.iopub_msg_rate_limit`.\n",
      "\n",
      "Current values:\n",
      "NotebookApp.iopub_msg_rate_limit=1000.0 (msgs/sec)\n",
      "NotebookApp.rate_limit_window=3.0 (secs)\n",
      "\n",
      "80014it [13:15, 100.68it/s]"
     ]
    },
    {
     "name": "stdout",
     "output_type": "stream",
     "text": [
      "5.8289847688674925\n"
     ]
    },
    {
     "name": "stderr",
     "output_type": "stream",
     "text": [
      "90013it [14:54, 100.62it/s]"
     ]
    },
    {
     "name": "stdout",
     "output_type": "stream",
     "text": [
      "5.8334040652275085\n"
     ]
    },
    {
     "name": "stderr",
     "output_type": "stream",
     "text": [
      "100012it [16:33, 100.50it/s]"
     ]
    },
    {
     "name": "stdout",
     "output_type": "stream",
     "text": [
      "5.829085360002518\n"
     ]
    },
    {
     "name": "stderr",
     "output_type": "stream",
     "text": [
      "103411it [17:07, 100.74it/s]IOPub message rate exceeded.\n",
      "The notebook server will temporarily stop sending output\n",
      "to the client in order to avoid crashing it.\n",
      "To change this limit, set the config variable\n",
      "`--NotebookApp.iopub_msg_rate_limit`.\n",
      "\n",
      "Current values:\n",
      "NotebookApp.iopub_msg_rate_limit=1000.0 (msgs/sec)\n",
      "NotebookApp.rate_limit_window=3.0 (secs)\n",
      "\n",
      "50018it [08:17, 100.55it/s]"
     ]
    },
    {
     "name": "stdout",
     "output_type": "stream",
     "text": [
      "5.816517260122299\n"
     ]
    },
    {
     "name": "stderr",
     "output_type": "stream",
     "text": [
      "57707it [09:33, 100.69it/s]IOPub message rate exceeded.\n",
      "The notebook server will temporarily stop sending output\n",
      "to the client in order to avoid crashing it.\n",
      "To change this limit, set the config variable\n",
      "`--NotebookApp.iopub_msg_rate_limit`.\n",
      "\n",
      "Current values:\n",
      "NotebookApp.iopub_msg_rate_limit=1000.0 (msgs/sec)\n",
      "NotebookApp.rate_limit_window=3.0 (secs)\n",
      "\n",
      "70016it [11:35, 100.54it/s]"
     ]
    },
    {
     "name": "stdout",
     "output_type": "stream",
     "text": [
      "5.819171389245987\n"
     ]
    },
    {
     "name": "stderr",
     "output_type": "stream",
     "text": [
      "80015it [13:15, 100.45it/s]"
     ]
    },
    {
     "name": "stdout",
     "output_type": "stream",
     "text": [
      "5.808679404497147\n"
     ]
    },
    {
     "name": "stderr",
     "output_type": "stream",
     "text": [
      "90014it [14:54, 100.68it/s]"
     ]
    },
    {
     "name": "stdout",
     "output_type": "stream",
     "text": [
      "5.8106540825843815\n"
     ]
    },
    {
     "name": "stderr",
     "output_type": "stream",
     "text": [
      "90729it [15:01, 100.77it/s]IOPub message rate exceeded.\n",
      "The notebook server will temporarily stop sending output\n",
      "to the client in order to avoid crashing it.\n",
      "To change this limit, set the config variable\n",
      "`--NotebookApp.iopub_msg_rate_limit`.\n",
      "\n",
      "Current values:\n",
      "NotebookApp.iopub_msg_rate_limit=1000.0 (msgs/sec)\n",
      "NotebookApp.rate_limit_window=3.0 (secs)\n",
      "\n",
      "40019it [06:38, 100.81it/s]"
     ]
    },
    {
     "name": "stdout",
     "output_type": "stream",
     "text": [
      "5.79566680984497\n"
     ]
    },
    {
     "name": "stderr",
     "output_type": "stream",
     "text": [
      "44276it [07:20, 100.75it/s]IOPub message rate exceeded.\n",
      "The notebook server will temporarily stop sending output\n",
      "to the client in order to avoid crashing it.\n",
      "To change this limit, set the config variable\n",
      "`--NotebookApp.iopub_msg_rate_limit`.\n",
      "\n",
      "Current values:\n",
      "NotebookApp.iopub_msg_rate_limit=1000.0 (msgs/sec)\n",
      "NotebookApp.rate_limit_window=3.0 (secs)\n",
      "\n",
      "60017it [09:57, 100.86it/s]"
     ]
    },
    {
     "name": "stdout",
     "output_type": "stream",
     "text": [
      "5.791983004570008\n"
     ]
    },
    {
     "name": "stderr",
     "output_type": "stream",
     "text": [
      "70016it [11:36, 100.84it/s]"
     ]
    },
    {
     "name": "stdout",
     "output_type": "stream",
     "text": [
      "5.79288536605835\n"
     ]
    },
    {
     "name": "stderr",
     "output_type": "stream",
     "text": [
      "76858it [12:44, 100.66it/s]IOPub message rate exceeded.\n",
      "The notebook server will temporarily stop sending output\n",
      "to the client in order to avoid crashing it.\n",
      "To change this limit, set the config variable\n",
      "`--NotebookApp.iopub_msg_rate_limit`.\n",
      "\n",
      "Current values:\n",
      "NotebookApp.iopub_msg_rate_limit=1000.0 (msgs/sec)\n",
      "NotebookApp.rate_limit_window=3.0 (secs)\n",
      "\n",
      "20010it [03:19, 100.45it/s]"
     ]
    },
    {
     "name": "stdout",
     "output_type": "stream",
     "text": [
      "5.7817930538654325\n"
     ]
    },
    {
     "name": "stderr",
     "output_type": "stream",
     "text": [
      "30020it [04:58, 100.57it/s]"
     ]
    },
    {
     "name": "stdout",
     "output_type": "stream",
     "text": [
      "5.780856217050553\n"
     ]
    },
    {
     "name": "stderr",
     "output_type": "stream",
     "text": [
      "30779it [05:06, 100.67it/s]IOPub message rate exceeded.\n",
      "The notebook server will temporarily stop sending output\n",
      "to the client in order to avoid crashing it.\n",
      "To change this limit, set the config variable\n",
      "`--NotebookApp.iopub_msg_rate_limit`.\n",
      "\n",
      "Current values:\n",
      "NotebookApp.iopub_msg_rate_limit=1000.0 (msgs/sec)\n",
      "NotebookApp.rate_limit_window=3.0 (secs)\n",
      "\n",
      "50018it [08:17, 100.54it/s]"
     ]
    },
    {
     "name": "stdout",
     "output_type": "stream",
     "text": [
      "5.780312825107575\n"
     ]
    },
    {
     "name": "stderr",
     "output_type": "stream",
     "text": [
      "60017it [09:56, 100.59it/s]"
     ]
    },
    {
     "name": "stdout",
     "output_type": "stream",
     "text": [
      "5.774028195667267\n"
     ]
    },
    {
     "name": "stderr",
     "output_type": "stream",
     "text": [
      "63449it [10:30, 100.92it/s]IOPub message rate exceeded.\n",
      "The notebook server will temporarily stop sending output\n",
      "to the client in order to avoid crashing it.\n",
      "To change this limit, set the config variable\n",
      "`--NotebookApp.iopub_msg_rate_limit`.\n",
      "\n",
      "Current values:\n",
      "NotebookApp.iopub_msg_rate_limit=1000.0 (msgs/sec)\n",
      "NotebookApp.rate_limit_window=3.0 (secs)\n",
      "\n",
      "10011it [01:40, 100.48it/s]"
     ]
    },
    {
     "name": "stdout",
     "output_type": "stream",
     "text": [
      "5.766336707973481\n"
     ]
    },
    {
     "name": "stderr",
     "output_type": "stream",
     "text": [
      "16908it [02:48, 100.56it/s]IOPub message rate exceeded.\n",
      "The notebook server will temporarily stop sending output\n",
      "to the client in order to avoid crashing it.\n",
      "To change this limit, set the config variable\n",
      "`--NotebookApp.iopub_msg_rate_limit`.\n",
      "\n",
      "Current values:\n",
      "NotebookApp.iopub_msg_rate_limit=1000.0 (msgs/sec)\n",
      "NotebookApp.rate_limit_window=3.0 (secs)\n",
      "\n",
      "30020it [04:59, 100.52it/s]"
     ]
    },
    {
     "name": "stdout",
     "output_type": "stream",
     "text": [
      "5.759155176591873\n"
     ]
    },
    {
     "name": "stderr",
     "output_type": "stream",
     "text": [
      "40019it [06:38, 100.53it/s]"
     ]
    },
    {
     "name": "stdout",
     "output_type": "stream",
     "text": [
      "5.768730650949478\n"
     ]
    },
    {
     "name": "stderr",
     "output_type": "stream",
     "text": [
      "49248it [08:10, 100.66it/s]IOPub message rate exceeded.\n",
      "The notebook server will temporarily stop sending output\n",
      "to the client in order to avoid crashing it.\n",
      "To change this limit, set the config variable\n",
      "`--NotebookApp.iopub_msg_rate_limit`.\n",
      "\n",
      "Current values:\n",
      "NotebookApp.iopub_msg_rate_limit=1000.0 (msgs/sec)\n",
      "NotebookApp.rate_limit_window=3.0 (secs)\n",
      "\n",
      "130010it [21:32, 100.43it/s]"
     ]
    },
    {
     "name": "stdout",
     "output_type": "stream",
     "text": [
      "5.748480232048035\n"
     ]
    },
    {
     "name": "stderr",
     "output_type": "stream",
     "text": [
      "132873it [22:00, 100.59it/s]\n",
      "10011it [01:40, 100.44it/s]"
     ]
    },
    {
     "name": "stdout",
     "output_type": "stream",
     "text": [
      "5.748218626737595\n"
     ]
    },
    {
     "name": "stderr",
     "output_type": "stream",
     "text": [
      "20010it [03:19, 100.35it/s]"
     ]
    },
    {
     "name": "stdout",
     "output_type": "stream",
     "text": [
      "5.748505047655105\n"
     ]
    },
    {
     "name": "stderr",
     "output_type": "stream",
     "text": [
      "26082it [04:20, 100.73it/s]IOPub message rate exceeded.\n",
      "The notebook server will temporarily stop sending output\n",
      "to the client in order to avoid crashing it.\n",
      "To change this limit, set the config variable\n",
      "`--NotebookApp.iopub_msg_rate_limit`.\n",
      "\n",
      "Current values:\n",
      "NotebookApp.iopub_msg_rate_limit=1000.0 (msgs/sec)\n",
      "NotebookApp.rate_limit_window=3.0 (secs)\n",
      "\n",
      "100013it [16:34, 100.56it/s]"
     ]
    },
    {
     "name": "stdout",
     "output_type": "stream",
     "text": [
      "5.731804737472534\n"
     ]
    },
    {
     "name": "stderr",
     "output_type": "stream",
     "text": [
      "108296it [17:56, 100.74it/s]IOPub message rate exceeded.\n",
      "The notebook server will temporarily stop sending output\n",
      "to the client in order to avoid crashing it.\n",
      "To change this limit, set the config variable\n",
      "`--NotebookApp.iopub_msg_rate_limit`.\n",
      "\n",
      "Current values:\n",
      "NotebookApp.iopub_msg_rate_limit=1000.0 (msgs/sec)\n",
      "NotebookApp.rate_limit_window=3.0 (secs)\n",
      "\n",
      "130010it [21:32, 100.28it/s]"
     ]
    },
    {
     "name": "stdout",
     "output_type": "stream",
     "text": [
      "5.736460879611969\n"
     ]
    },
    {
     "name": "stderr",
     "output_type": "stream",
     "text": [
      "132873it [22:00, 100.59it/s]\n",
      "10011it [01:40, 100.29it/s]"
     ]
    },
    {
     "name": "stdout",
     "output_type": "stream",
     "text": [
      "5.73107681684494\n"
     ]
    },
    {
     "name": "stderr",
     "output_type": "stream",
     "text": [
      "13168it [02:11, 100.59it/s]IOPub message rate exceeded.\n",
      "The notebook server will temporarily stop sending output\n",
      "to the client in order to avoid crashing it.\n",
      "To change this limit, set the config variable\n",
      "`--NotebookApp.iopub_msg_rate_limit`.\n",
      "\n",
      "Current values:\n",
      "NotebookApp.iopub_msg_rate_limit=1000.0 (msgs/sec)\n",
      "NotebookApp.rate_limit_window=3.0 (secs)\n",
      "\n",
      "90011it [14:55, 100.53it/s]"
     ]
    },
    {
     "name": "stdout",
     "output_type": "stream",
     "text": [
      "5.719524452590942\n"
     ]
    },
    {
     "name": "stderr",
     "output_type": "stream",
     "text": [
      "94961it [15:44, 100.66it/s]IOPub message rate exceeded.\n",
      "The notebook server will temporarily stop sending output\n",
      "to the client in order to avoid crashing it.\n",
      "To change this limit, set the config variable\n",
      "`--NotebookApp.iopub_msg_rate_limit`.\n",
      "\n",
      "Current values:\n",
      "NotebookApp.iopub_msg_rate_limit=1000.0 (msgs/sec)\n",
      "NotebookApp.rate_limit_window=3.0 (secs)\n",
      "\n",
      "110020it [18:13, 100.57it/s]"
     ]
    },
    {
     "name": "stdout",
     "output_type": "stream",
     "text": [
      "5.728432092761993\n"
     ]
    },
    {
     "name": "stderr",
     "output_type": "stream",
     "text": [
      "120019it [19:53, 100.43it/s]"
     ]
    },
    {
     "name": "stdout",
     "output_type": "stream",
     "text": [
      "5.718988433170319\n"
     ]
    },
    {
     "name": "stderr",
     "output_type": "stream",
     "text": [
      "130018it [21:32, 100.55it/s]"
     ]
    },
    {
     "name": "stdout",
     "output_type": "stream",
     "text": [
      "5.725595181226731\n"
     ]
    },
    {
     "name": "stderr",
     "output_type": "stream",
     "text": [
      "132680it [21:58, 100.70it/s]IOPub message rate exceeded.\n",
      "The notebook server will temporarily stop sending output\n",
      "to the client in order to avoid crashing it.\n",
      "To change this limit, set the config variable\n",
      "`--NotebookApp.iopub_msg_rate_limit`.\n",
      "\n",
      "Current values:\n",
      "NotebookApp.iopub_msg_rate_limit=1000.0 (msgs/sec)\n",
      "NotebookApp.rate_limit_window=3.0 (secs)\n",
      "\n",
      "80014it [13:15, 100.28it/s]"
     ]
    },
    {
     "name": "stdout",
     "output_type": "stream",
     "text": [
      "5.718762705230713\n"
     ]
    },
    {
     "name": "stderr",
     "output_type": "stream",
     "text": [
      "81741it [13:33, 100.48it/s]IOPub message rate exceeded.\n",
      "The notebook server will temporarily stop sending output\n",
      "to the client in order to avoid crashing it.\n",
      "To change this limit, set the config variable\n",
      "`--NotebookApp.iopub_msg_rate_limit`.\n",
      "\n",
      "Current values:\n",
      "NotebookApp.iopub_msg_rate_limit=1000.0 (msgs/sec)\n",
      "NotebookApp.rate_limit_window=3.0 (secs)\n",
      "\n",
      "100013it [16:35, 100.35it/s]"
     ]
    },
    {
     "name": "stdout",
     "output_type": "stream",
     "text": [
      "5.711947315168381\n"
     ]
    },
    {
     "name": "stderr",
     "output_type": "stream",
     "text": [
      "110012it [18:14, 100.31it/s]"
     ]
    },
    {
     "name": "stdout",
     "output_type": "stream",
     "text": [
      "5.711665353012085\n"
     ]
    },
    {
     "name": "stderr",
     "output_type": "stream",
     "text": [
      "119263it [19:46, 100.44it/s]IOPub message rate exceeded.\n",
      "The notebook server will temporarily stop sending output\n",
      "to the client in order to avoid crashing it.\n",
      "To change this limit, set the config variable\n",
      "`--NotebookApp.iopub_msg_rate_limit`.\n",
      "\n",
      "Current values:\n",
      "NotebookApp.iopub_msg_rate_limit=1000.0 (msgs/sec)\n",
      "NotebookApp.rate_limit_window=3.0 (secs)\n",
      "\n",
      "60014it [09:58, 100.54it/s]"
     ]
    },
    {
     "name": "stdout",
     "output_type": "stream",
     "text": [
      "5.704850027036667\n"
     ]
    },
    {
     "name": "stderr",
     "output_type": "stream",
     "text": [
      "67549it [11:12, 100.65it/s]IOPub message rate exceeded.\n",
      "The notebook server will temporarily stop sending output\n",
      "to the client in order to avoid crashing it.\n",
      "To change this limit, set the config variable\n",
      "`--NotebookApp.iopub_msg_rate_limit`.\n",
      "\n",
      "Current values:\n",
      "NotebookApp.iopub_msg_rate_limit=1000.0 (msgs/sec)\n",
      "NotebookApp.rate_limit_window=3.0 (secs)\n",
      "\n",
      "90011it [14:56, 100.27it/s]"
     ]
    },
    {
     "name": "stdout",
     "output_type": "stream",
     "text": [
      "5.6977348890781405\n"
     ]
    },
    {
     "name": "stderr",
     "output_type": "stream",
     "text": [
      "100010it [16:36, 100.26it/s]"
     ]
    },
    {
     "name": "stdout",
     "output_type": "stream",
     "text": [
      "5.70502036895752\n"
     ]
    },
    {
     "name": "stderr",
     "output_type": "stream",
     "text": [
      "106236it [17:38, 100.46it/s]IOPub message rate exceeded.\n",
      "The notebook server will temporarily stop sending output\n",
      "to the client in order to avoid crashing it.\n",
      "To change this limit, set the config variable\n",
      "`--NotebookApp.iopub_msg_rate_limit`.\n",
      "\n",
      "Current values:\n",
      "NotebookApp.iopub_msg_rate_limit=1000.0 (msgs/sec)\n",
      "NotebookApp.rate_limit_window=3.0 (secs)\n",
      "\n",
      "50018it [08:18, 100.35it/s]"
     ]
    },
    {
     "name": "stdout",
     "output_type": "stream",
     "text": [
      "5.698042856025696\n"
     ]
    },
    {
     "name": "stderr",
     "output_type": "stream",
     "text": [
      "54902it [09:07, 100.63it/s]IOPub message rate exceeded.\n",
      "The notebook server will temporarily stop sending output\n",
      "to the client in order to avoid crashing it.\n",
      "To change this limit, set the config variable\n",
      "`--NotebookApp.iopub_msg_rate_limit`.\n",
      "\n",
      "Current values:\n",
      "NotebookApp.iopub_msg_rate_limit=1000.0 (msgs/sec)\n",
      "NotebookApp.rate_limit_window=3.0 (secs)\n",
      "\n",
      "70015it [11:37, 100.13it/s]"
     ]
    },
    {
     "name": "stdout",
     "output_type": "stream",
     "text": [
      "5.687324831104279\n"
     ]
    },
    {
     "name": "stderr",
     "output_type": "stream",
     "text": [
      "80010it [13:17, 100.17it/s]"
     ]
    },
    {
     "name": "stdout",
     "output_type": "stream",
     "text": [
      "5.686969866991043\n"
     ]
    },
    {
     "name": "stderr",
     "output_type": "stream",
     "text": [
      "90020it [14:56, 100.36it/s]"
     ]
    },
    {
     "name": "stdout",
     "output_type": "stream",
     "text": [
      "5.693409101104736\n"
     ]
    },
    {
     "name": "stderr",
     "output_type": "stream",
     "text": [
      "93386it [15:30, 100.56it/s]IOPub message rate exceeded.\n",
      "The notebook server will temporarily stop sending output\n",
      "to the client in order to avoid crashing it.\n",
      "To change this limit, set the config variable\n",
      "`--NotebookApp.iopub_msg_rate_limit`.\n",
      "\n",
      "Current values:\n",
      "NotebookApp.iopub_msg_rate_limit=1000.0 (msgs/sec)\n",
      "NotebookApp.rate_limit_window=3.0 (secs)\n",
      "\n",
      "40019it [06:39, 100.31it/s]"
     ]
    },
    {
     "name": "stdout",
     "output_type": "stream",
     "text": [
      "5.693992177629471\n"
     ]
    },
    {
     "name": "stderr",
     "output_type": "stream",
     "text": [
      "41746it [06:56, 100.47it/s]IOPub message rate exceeded.\n",
      "The notebook server will temporarily stop sending output\n",
      "to the client in order to avoid crashing it.\n",
      "To change this limit, set the config variable\n",
      "`--NotebookApp.iopub_msg_rate_limit`.\n",
      "\n",
      "Current values:\n",
      "NotebookApp.iopub_msg_rate_limit=1000.0 (msgs/sec)\n",
      "NotebookApp.rate_limit_window=3.0 (secs)\n",
      "\n",
      "60017it [09:58, 100.25it/s]"
     ]
    },
    {
     "name": "stdout",
     "output_type": "stream",
     "text": [
      "5.674040591573715\n"
     ]
    },
    {
     "name": "stderr",
     "output_type": "stream",
     "text": [
      "70016it [11:37, 100.37it/s]"
     ]
    },
    {
     "name": "stdout",
     "output_type": "stream",
     "text": [
      "5.682185336828232\n"
     ]
    },
    {
     "name": "stderr",
     "output_type": "stream",
     "text": [
      "79960it [13:16, 100.50it/s]IOPub message rate exceeded.\n",
      "The notebook server will temporarily stop sending output\n",
      "to the client in order to avoid crashing it.\n",
      "To change this limit, set the config variable\n",
      "`--NotebookApp.iopub_msg_rate_limit`.\n",
      "\n",
      "Current values:\n",
      "NotebookApp.iopub_msg_rate_limit=1000.0 (msgs/sec)\n",
      "NotebookApp.rate_limit_window=3.0 (secs)\n",
      "\n",
      "90014it [14:56, 100.14it/s]"
     ]
    },
    {
     "name": "stdout",
     "output_type": "stream",
     "text": [
      "5.683132724142075\n"
     ]
    },
    {
     "name": "stderr",
     "output_type": "stream",
     "text": [
      "100011it [16:36, 100.08it/s]"
     ]
    },
    {
     "name": "stdout",
     "output_type": "stream",
     "text": [
      "5.673635899209976\n"
     ]
    },
    {
     "name": "stderr",
     "output_type": "stream",
     "text": [
      "110010it [18:15, 100.20it/s]"
     ]
    },
    {
     "name": "stdout",
     "output_type": "stream",
     "text": [
      "5.674902307939529\n"
     ]
    },
    {
     "name": "stderr",
     "output_type": "stream",
     "text": [
      "120020it [19:55, 100.24it/s]"
     ]
    },
    {
     "name": "stdout",
     "output_type": "stream",
     "text": [
      "5.667514586257934\n"
     ]
    },
    {
     "name": "stderr",
     "output_type": "stream",
     "text": [
      "130019it [21:35, 100.27it/s]"
     ]
    },
    {
     "name": "stdout",
     "output_type": "stream",
     "text": [
      "5.673895795917511\n"
     ]
    },
    {
     "name": "stderr",
     "output_type": "stream",
     "text": [
      "132873it [22:03, 100.40it/s]\n",
      "10011it [01:40, 100.34it/s]"
     ]
    },
    {
     "name": "stdout",
     "output_type": "stream",
     "text": [
      "5.673621640586853\n"
     ]
    },
    {
     "name": "stderr",
     "output_type": "stream",
     "text": [
      "20020it [03:20, 100.18it/s]"
     ]
    },
    {
     "name": "stdout",
     "output_type": "stream",
     "text": [
      "5.677794884109497\n"
     ]
    },
    {
     "name": "stderr",
     "output_type": "stream",
     "text": [
      "30019it [04:59, 100.23it/s]"
     ]
    },
    {
     "name": "stdout",
     "output_type": "stream",
     "text": [
      "5.671400763130188\n"
     ]
    },
    {
     "name": "stderr",
     "output_type": "stream",
     "text": [
      "40018it [06:39, 100.37it/s]"
     ]
    },
    {
     "name": "stdout",
     "output_type": "stream",
     "text": [
      "5.675081904983521\n"
     ]
    },
    {
     "name": "stderr",
     "output_type": "stream",
     "text": [
      "50010it [08:18, 100.45it/s]"
     ]
    },
    {
     "name": "stdout",
     "output_type": "stream",
     "text": [
      "5.664005839157104\n"
     ]
    },
    {
     "name": "stderr",
     "output_type": "stream",
     "text": [
      "60020it [09:58, 100.52it/s]"
     ]
    },
    {
     "name": "stdout",
     "output_type": "stream",
     "text": [
      "5.674266651821137\n"
     ]
    },
    {
     "name": "stderr",
     "output_type": "stream",
     "text": [
      "70019it [11:37, 100.44it/s]"
     ]
    },
    {
     "name": "stdout",
     "output_type": "stream",
     "text": [
      "5.6694458471775055\n"
     ]
    },
    {
     "name": "stderr",
     "output_type": "stream",
     "text": [
      "80018it [13:16, 100.33it/s]"
     ]
    },
    {
     "name": "stdout",
     "output_type": "stream",
     "text": [
      "5.669698407506942\n"
     ]
    },
    {
     "name": "stderr",
     "output_type": "stream",
     "text": [
      "90017it [14:56, 100.26it/s]"
     ]
    },
    {
     "name": "stdout",
     "output_type": "stream",
     "text": [
      "5.662013827562332\n"
     ]
    },
    {
     "name": "stderr",
     "output_type": "stream",
     "text": [
      "100016it [16:35, 100.40it/s]"
     ]
    },
    {
     "name": "stdout",
     "output_type": "stream",
     "text": [
      "5.667526069068908\n"
     ]
    },
    {
     "name": "stderr",
     "output_type": "stream",
     "text": [
      "110019it [18:15, 100.37it/s]"
     ]
    },
    {
     "name": "stdout",
     "output_type": "stream",
     "text": [
      "5.663345989656448\n"
     ]
    },
    {
     "name": "stderr",
     "output_type": "stream",
     "text": [
      "120018it [19:54, 100.58it/s]"
     ]
    },
    {
     "name": "stdout",
     "output_type": "stream",
     "text": [
      "5.660434545040131\n"
     ]
    },
    {
     "name": "stderr",
     "output_type": "stream",
     "text": [
      "130017it [21:33, 100.50it/s]"
     ]
    },
    {
     "name": "stdout",
     "output_type": "stream",
     "text": [
      "5.663957008695602\n"
     ]
    },
    {
     "name": "stderr",
     "output_type": "stream",
     "text": [
      "132873it [22:02, 100.48it/s]\n",
      "10010it [01:40, 100.07it/s]"
     ]
    },
    {
     "name": "stdout",
     "output_type": "stream",
     "text": [
      "5.662500520563126\n"
     ]
    },
    {
     "name": "stderr",
     "output_type": "stream",
     "text": [
      "20020it [03:20, 100.33it/s]"
     ]
    },
    {
     "name": "stdout",
     "output_type": "stream",
     "text": [
      "5.6595632477283475\n"
     ]
    },
    {
     "name": "stderr",
     "output_type": "stream",
     "text": [
      "30019it [04:59, 100.21it/s]"
     ]
    },
    {
     "name": "stdout",
     "output_type": "stream",
     "text": [
      "5.666371779346466\n"
     ]
    },
    {
     "name": "stderr",
     "output_type": "stream",
     "text": [
      "40012it [06:39, 100.30it/s]"
     ]
    },
    {
     "name": "stdout",
     "output_type": "stream",
     "text": [
      "5.668167249631882\n"
     ]
    },
    {
     "name": "stderr",
     "output_type": "stream",
     "text": [
      "50011it [08:18, 100.22it/s]"
     ]
    },
    {
     "name": "stdout",
     "output_type": "stream",
     "text": [
      "5.664189317131043\n"
     ]
    },
    {
     "name": "stderr",
     "output_type": "stream",
     "text": [
      "60010it [09:58, 100.11it/s]"
     ]
    },
    {
     "name": "stdout",
     "output_type": "stream",
     "text": [
      "5.660066014385223\n"
     ]
    },
    {
     "name": "stderr",
     "output_type": "stream",
     "text": [
      "70020it [11:38, 100.17it/s]"
     ]
    },
    {
     "name": "stdout",
     "output_type": "stream",
     "text": [
      "5.655209894657135\n"
     ]
    },
    {
     "name": "stderr",
     "output_type": "stream",
     "text": [
      "80019it [13:17, 100.43it/s]"
     ]
    },
    {
     "name": "stdout",
     "output_type": "stream",
     "text": [
      "5.652752511548996\n"
     ]
    },
    {
     "name": "stderr",
     "output_type": "stream",
     "text": [
      "90018it [14:57, 100.58it/s]"
     ]
    },
    {
     "name": "stdout",
     "output_type": "stream",
     "text": [
      "5.656791917037964\n"
     ]
    },
    {
     "name": "stderr",
     "output_type": "stream",
     "text": [
      "100015it [16:36, 100.31it/s]"
     ]
    },
    {
     "name": "stdout",
     "output_type": "stream",
     "text": [
      "5.651359550285339\n"
     ]
    },
    {
     "name": "stderr",
     "output_type": "stream",
     "text": [
      "110014it [18:16, 100.51it/s]"
     ]
    },
    {
     "name": "stdout",
     "output_type": "stream",
     "text": [
      "5.6515669942855835\n"
     ]
    },
    {
     "name": "stderr",
     "output_type": "stream",
     "text": [
      "120013it [19:55, 100.61it/s]"
     ]
    },
    {
     "name": "stdout",
     "output_type": "stream",
     "text": [
      "5.653879661607743\n"
     ]
    },
    {
     "name": "stderr",
     "output_type": "stream",
     "text": [
      "130011it [21:34, 100.15it/s]"
     ]
    },
    {
     "name": "stdout",
     "output_type": "stream",
     "text": [
      "5.653677886724472\n"
     ]
    },
    {
     "name": "stderr",
     "output_type": "stream",
     "text": [
      "132873it [22:03, 100.40it/s]\n",
      "10011it [01:40, 100.48it/s]"
     ]
    },
    {
     "name": "stdout",
     "output_type": "stream",
     "text": [
      "5.645799513483047\n"
     ]
    },
    {
     "name": "stderr",
     "output_type": "stream",
     "text": [
      "20010it [03:19, 100.20it/s]"
     ]
    },
    {
     "name": "stdout",
     "output_type": "stream",
     "text": [
      "5.647767086791992\n"
     ]
    },
    {
     "name": "stderr",
     "output_type": "stream",
     "text": [
      "30020it [04:59, 100.32it/s]"
     ]
    },
    {
     "name": "stdout",
     "output_type": "stream",
     "text": [
      "5.648261597061158\n"
     ]
    },
    {
     "name": "stderr",
     "output_type": "stream",
     "text": [
      "40019it [06:38, 100.35it/s]"
     ]
    },
    {
     "name": "stdout",
     "output_type": "stream",
     "text": [
      "5.653800115251541\n"
     ]
    },
    {
     "name": "stderr",
     "output_type": "stream",
     "text": [
      "50018it [08:18, 100.60it/s]"
     ]
    },
    {
     "name": "stdout",
     "output_type": "stream",
     "text": [
      "5.64933937830925\n"
     ]
    },
    {
     "name": "stderr",
     "output_type": "stream",
     "text": [
      "60017it [09:57, 100.29it/s]"
     ]
    },
    {
     "name": "stdout",
     "output_type": "stream",
     "text": [
      "5.651028374624253\n"
     ]
    },
    {
     "name": "stderr",
     "output_type": "stream",
     "text": [
      "70016it [11:37, 100.49it/s]"
     ]
    },
    {
     "name": "stdout",
     "output_type": "stream",
     "text": [
      "5.649345345497132\n"
     ]
    },
    {
     "name": "stderr",
     "output_type": "stream",
     "text": [
      "80015it [13:16, 100.33it/s]"
     ]
    },
    {
     "name": "stdout",
     "output_type": "stream",
     "text": [
      "5.648134110975265\n"
     ]
    },
    {
     "name": "stderr",
     "output_type": "stream",
     "text": [
      "90014it [14:56, 100.52it/s]"
     ]
    },
    {
     "name": "stdout",
     "output_type": "stream",
     "text": [
      "5.645569329118729\n"
     ]
    },
    {
     "name": "stderr",
     "output_type": "stream",
     "text": [
      "100013it [16:35, 100.46it/s]"
     ]
    },
    {
     "name": "stdout",
     "output_type": "stream",
     "text": [
      "5.643556640625\n"
     ]
    },
    {
     "name": "stderr",
     "output_type": "stream",
     "text": [
      "110012it [18:15, 100.34it/s]"
     ]
    },
    {
     "name": "stdout",
     "output_type": "stream",
     "text": [
      "5.649912433385849\n"
     ]
    },
    {
     "name": "stderr",
     "output_type": "stream",
     "text": [
      "120011it [19:54, 100.29it/s]"
     ]
    },
    {
     "name": "stdout",
     "output_type": "stream",
     "text": [
      "5.649488915395737\n"
     ]
    },
    {
     "name": "stderr",
     "output_type": "stream",
     "text": [
      "130010it [21:34, 100.25it/s]"
     ]
    },
    {
     "name": "stdout",
     "output_type": "stream",
     "text": [
      "5.651444598674774\n"
     ]
    },
    {
     "name": "stderr",
     "output_type": "stream",
     "text": [
      "132873it [22:02, 100.45it/s]\n",
      "10011it [01:40, 100.30it/s]"
     ]
    },
    {
     "name": "stdout",
     "output_type": "stream",
     "text": [
      "5.644530473232269\n"
     ]
    },
    {
     "name": "stderr",
     "output_type": "stream",
     "text": [
      "20010it [03:20, 100.05it/s]"
     ]
    },
    {
     "name": "stdout",
     "output_type": "stream",
     "text": [
      "5.6461636033535\n"
     ]
    },
    {
     "name": "stderr",
     "output_type": "stream",
     "text": [
      "30020it [04:59, 100.31it/s]"
     ]
    },
    {
     "name": "stdout",
     "output_type": "stream",
     "text": [
      "5.639929312181473\n"
     ]
    },
    {
     "name": "stderr",
     "output_type": "stream",
     "text": [
      "40018it [06:39, 100.22it/s]"
     ]
    },
    {
     "name": "stdout",
     "output_type": "stream",
     "text": [
      "5.638151559829712\n"
     ]
    },
    {
     "name": "stderr",
     "output_type": "stream",
     "text": [
      "50017it [08:18, 100.32it/s]"
     ]
    },
    {
     "name": "stdout",
     "output_type": "stream",
     "text": [
      "5.639077270030976\n"
     ]
    },
    {
     "name": "stderr",
     "output_type": "stream",
     "text": [
      "60020it [09:58, 100.30it/s]"
     ]
    },
    {
     "name": "stdout",
     "output_type": "stream",
     "text": [
      "5.637525830125809\n"
     ]
    },
    {
     "name": "stderr",
     "output_type": "stream",
     "text": [
      "70012it [11:37, 100.32it/s]"
     ]
    },
    {
     "name": "stdout",
     "output_type": "stream",
     "text": [
      "5.643229812240601\n"
     ]
    },
    {
     "name": "stderr",
     "output_type": "stream",
     "text": [
      "80011it [13:17, 100.31it/s]"
     ]
    },
    {
     "name": "stdout",
     "output_type": "stream",
     "text": [
      "5.643373426389695\n"
     ]
    },
    {
     "name": "stderr",
     "output_type": "stream",
     "text": [
      "90010it [14:56, 100.46it/s]"
     ]
    },
    {
     "name": "stdout",
     "output_type": "stream",
     "text": [
      "5.636205994415283\n"
     ]
    },
    {
     "name": "stderr",
     "output_type": "stream",
     "text": [
      "100020it [16:36, 100.28it/s]"
     ]
    },
    {
     "name": "stdout",
     "output_type": "stream",
     "text": [
      "5.640382506895065\n"
     ]
    },
    {
     "name": "stderr",
     "output_type": "stream",
     "text": [
      "110019it [18:15, 100.28it/s]"
     ]
    },
    {
     "name": "stdout",
     "output_type": "stream",
     "text": [
      "5.633230813264847\n"
     ]
    },
    {
     "name": "stderr",
     "output_type": "stream",
     "text": [
      "120018it [19:55, 100.34it/s]"
     ]
    },
    {
     "name": "stdout",
     "output_type": "stream",
     "text": [
      "5.637275801038742\n"
     ]
    },
    {
     "name": "stderr",
     "output_type": "stream",
     "text": [
      "130017it [21:34, 100.28it/s]"
     ]
    },
    {
     "name": "stdout",
     "output_type": "stream",
     "text": [
      "5.630571480989456\n"
     ]
    },
    {
     "name": "stderr",
     "output_type": "stream",
     "text": [
      "132873it [22:03, 100.42it/s]\n",
      "10011it [01:40, 100.27it/s]"
     ]
    },
    {
     "name": "stdout",
     "output_type": "stream",
     "text": [
      "5.63237621011734\n"
     ]
    },
    {
     "name": "stderr",
     "output_type": "stream",
     "text": [
      "20010it [03:20, 100.23it/s]"
     ]
    },
    {
     "name": "stdout",
     "output_type": "stream",
     "text": [
      "5.633024444723129\n"
     ]
    },
    {
     "name": "stderr",
     "output_type": "stream",
     "text": [
      "30020it [04:59, 100.26it/s]"
     ]
    },
    {
     "name": "stdout",
     "output_type": "stream",
     "text": [
      "5.632124541330337\n"
     ]
    },
    {
     "name": "stderr",
     "output_type": "stream",
     "text": [
      "40019it [06:39, 100.20it/s]"
     ]
    },
    {
     "name": "stdout",
     "output_type": "stream",
     "text": [
      "5.6349915060520175\n"
     ]
    },
    {
     "name": "stderr",
     "output_type": "stream",
     "text": [
      "50018it [08:18, 100.27it/s]"
     ]
    },
    {
     "name": "stdout",
     "output_type": "stream",
     "text": [
      "5.636615145158768\n"
     ]
    },
    {
     "name": "stderr",
     "output_type": "stream",
     "text": [
      "60017it [09:58, 100.31it/s]"
     ]
    },
    {
     "name": "stdout",
     "output_type": "stream",
     "text": [
      "5.62965634522438\n"
     ]
    },
    {
     "name": "stderr",
     "output_type": "stream",
     "text": [
      "70016it [11:37, 100.47it/s]"
     ]
    },
    {
     "name": "stdout",
     "output_type": "stream",
     "text": [
      "5.625896379041672\n"
     ]
    },
    {
     "name": "stderr",
     "output_type": "stream",
     "text": [
      "80015it [13:17, 100.30it/s]"
     ]
    },
    {
     "name": "stdout",
     "output_type": "stream",
     "text": [
      "5.626022433185577\n"
     ]
    },
    {
     "name": "stderr",
     "output_type": "stream",
     "text": [
      "90014it [14:56, 100.29it/s]"
     ]
    },
    {
     "name": "stdout",
     "output_type": "stream",
     "text": [
      "5.634068005084991\n"
     ]
    },
    {
     "name": "stderr",
     "output_type": "stream",
     "text": [
      "100013it [16:36, 100.28it/s]"
     ]
    },
    {
     "name": "stdout",
     "output_type": "stream",
     "text": [
      "5.63483613114357\n"
     ]
    },
    {
     "name": "stderr",
     "output_type": "stream",
     "text": [
      "110012it [18:15, 100.35it/s]"
     ]
    },
    {
     "name": "stdout",
     "output_type": "stream",
     "text": [
      "5.624099765300751\n"
     ]
    },
    {
     "name": "stderr",
     "output_type": "stream",
     "text": [
      "120011it [19:55, 100.28it/s]"
     ]
    },
    {
     "name": "stdout",
     "output_type": "stream",
     "text": [
      "5.623583609247207\n"
     ]
    },
    {
     "name": "stderr",
     "output_type": "stream",
     "text": [
      "130010it [21:34, 100.23it/s]"
     ]
    },
    {
     "name": "stdout",
     "output_type": "stream",
     "text": [
      "5.625049726390839\n"
     ]
    },
    {
     "name": "stderr",
     "output_type": "stream",
     "text": [
      "132873it [22:03, 100.42it/s]\n",
      "10011it [01:40, 100.37it/s]"
     ]
    },
    {
     "name": "stdout",
     "output_type": "stream",
     "text": [
      "5.624726156568527\n"
     ]
    },
    {
     "name": "stderr",
     "output_type": "stream",
     "text": [
      "20010it [03:20, 100.35it/s]"
     ]
    },
    {
     "name": "stdout",
     "output_type": "stream",
     "text": [
      "5.625032957482338\n"
     ]
    },
    {
     "name": "stderr",
     "output_type": "stream",
     "text": [
      "30020it [04:59, 100.03it/s]"
     ]
    },
    {
     "name": "stdout",
     "output_type": "stream",
     "text": [
      "5.622047633075714\n"
     ]
    },
    {
     "name": "stderr",
     "output_type": "stream",
     "text": [
      "40019it [06:39, 100.29it/s]"
     ]
    },
    {
     "name": "stdout",
     "output_type": "stream",
     "text": [
      "5.633423304891586\n"
     ]
    },
    {
     "name": "stderr",
     "output_type": "stream",
     "text": [
      "50018it [08:18, 100.50it/s]"
     ]
    },
    {
     "name": "stdout",
     "output_type": "stream",
     "text": [
      "5.623010214567184\n"
     ]
    },
    {
     "name": "stderr",
     "output_type": "stream",
     "text": [
      "60017it [09:58, 100.29it/s]"
     ]
    },
    {
     "name": "stdout",
     "output_type": "stream",
     "text": [
      "5.62000085067749\n"
     ]
    },
    {
     "name": "stderr",
     "output_type": "stream",
     "text": [
      "70016it [11:37, 100.35it/s]"
     ]
    },
    {
     "name": "stdout",
     "output_type": "stream",
     "text": [
      "5.617874703502655\n"
     ]
    },
    {
     "name": "stderr",
     "output_type": "stream",
     "text": [
      "80013it [13:17, 100.33it/s]"
     ]
    },
    {
     "name": "stdout",
     "output_type": "stream",
     "text": [
      "5.623790875482559\n"
     ]
    },
    {
     "name": "stderr",
     "output_type": "stream",
     "text": [
      "90012it [14:56, 100.14it/s]"
     ]
    },
    {
     "name": "stdout",
     "output_type": "stream",
     "text": [
      "5.621288958215714\n"
     ]
    },
    {
     "name": "stderr",
     "output_type": "stream",
     "text": [
      "100011it [16:36, 100.26it/s]"
     ]
    },
    {
     "name": "stdout",
     "output_type": "stream",
     "text": [
      "5.619256998682022\n"
     ]
    },
    {
     "name": "stderr",
     "output_type": "stream",
     "text": [
      "110010it [18:15, 100.07it/s]"
     ]
    },
    {
     "name": "stdout",
     "output_type": "stream",
     "text": [
      "5.622056057024002\n"
     ]
    },
    {
     "name": "stderr",
     "output_type": "stream",
     "text": [
      "120020it [19:55, 100.19it/s]"
     ]
    },
    {
     "name": "stdout",
     "output_type": "stream",
     "text": [
      "5.619647335720062\n"
     ]
    },
    {
     "name": "stderr",
     "output_type": "stream",
     "text": [
      "130019it [21:34, 100.38it/s]"
     ]
    },
    {
     "name": "stdout",
     "output_type": "stream",
     "text": [
      "5.612990117120742\n"
     ]
    },
    {
     "name": "stderr",
     "output_type": "stream",
     "text": [
      "132873it [22:03, 100.41it/s]\n",
      "10019it [01:40, 100.18it/s]"
     ]
    },
    {
     "name": "stdout",
     "output_type": "stream",
     "text": [
      "5.619641370058059\n"
     ]
    },
    {
     "name": "stderr",
     "output_type": "stream",
     "text": [
      "20018it [03:20, 100.19it/s]"
     ]
    },
    {
     "name": "stdout",
     "output_type": "stream",
     "text": [
      "5.619631991910935\n"
     ]
    },
    {
     "name": "stderr",
     "output_type": "stream",
     "text": [
      "30017it [04:59, 100.17it/s]"
     ]
    },
    {
     "name": "stdout",
     "output_type": "stream",
     "text": [
      "5.609378216171264\n"
     ]
    },
    {
     "name": "stderr",
     "output_type": "stream",
     "text": [
      "40014it [06:39, 100.07it/s]"
     ]
    },
    {
     "name": "stdout",
     "output_type": "stream",
     "text": [
      "5.6152210875988\n"
     ]
    },
    {
     "name": "stderr",
     "output_type": "stream",
     "text": [
      "50013it [08:18, 100.33it/s]"
     ]
    },
    {
     "name": "stdout",
     "output_type": "stream",
     "text": [
      "5.61600999121666\n"
     ]
    },
    {
     "name": "stderr",
     "output_type": "stream",
     "text": [
      "60012it [09:58, 100.34it/s]"
     ]
    },
    {
     "name": "stdout",
     "output_type": "stream",
     "text": [
      "5.610721753644944\n"
     ]
    },
    {
     "name": "stderr",
     "output_type": "stream",
     "text": [
      "70011it [11:38, 100.29it/s]"
     ]
    },
    {
     "name": "stdout",
     "output_type": "stream",
     "text": [
      "5.61615690073967\n"
     ]
    },
    {
     "name": "stderr",
     "output_type": "stream",
     "text": [
      "80010it [13:17, 100.23it/s]"
     ]
    },
    {
     "name": "stdout",
     "output_type": "stream",
     "text": [
      "5.608837130117417\n"
     ]
    },
    {
     "name": "stderr",
     "output_type": "stream",
     "text": [
      "90020it [14:57, 100.21it/s]"
     ]
    },
    {
     "name": "stdout",
     "output_type": "stream",
     "text": [
      "5.610626231861114\n"
     ]
    },
    {
     "name": "stderr",
     "output_type": "stream",
     "text": [
      "100015it [16:36, 100.38it/s]"
     ]
    },
    {
     "name": "stdout",
     "output_type": "stream",
     "text": [
      "5.608990983438492\n"
     ]
    },
    {
     "name": "stderr",
     "output_type": "stream",
     "text": [
      "110014it [18:16, 100.39it/s]"
     ]
    },
    {
     "name": "stdout",
     "output_type": "stream",
     "text": [
      "5.610406431055069\n"
     ]
    },
    {
     "name": "stderr",
     "output_type": "stream",
     "text": [
      "120013it [19:55, 100.38it/s]"
     ]
    },
    {
     "name": "stdout",
     "output_type": "stream",
     "text": [
      "5.617432942152023\n"
     ]
    },
    {
     "name": "stderr",
     "output_type": "stream",
     "text": [
      "130012it [21:35, 100.28it/s]"
     ]
    },
    {
     "name": "stdout",
     "output_type": "stream",
     "text": [
      "5.609459918832779\n"
     ]
    },
    {
     "name": "stderr",
     "output_type": "stream",
     "text": [
      "132873it [22:03, 100.39it/s]\n",
      "10011it [01:40, 100.20it/s]"
     ]
    },
    {
     "name": "stdout",
     "output_type": "stream",
     "text": [
      "5.608142137384415\n"
     ]
    },
    {
     "name": "stderr",
     "output_type": "stream",
     "text": [
      "20020it [03:20, 100.01it/s]"
     ]
    },
    {
     "name": "stdout",
     "output_type": "stream",
     "text": [
      "5.611962971591949\n"
     ]
    },
    {
     "name": "stderr",
     "output_type": "stream",
     "text": [
      "30019it [04:59, 100.21it/s]"
     ]
    },
    {
     "name": "stdout",
     "output_type": "stream",
     "text": [
      "5.61120404624939\n"
     ]
    },
    {
     "name": "stderr",
     "output_type": "stream",
     "text": [
      "40018it [06:39, 100.34it/s]"
     ]
    },
    {
     "name": "stdout",
     "output_type": "stream",
     "text": [
      "5.603798350143433\n"
     ]
    },
    {
     "name": "stderr",
     "output_type": "stream",
     "text": [
      "50011it [08:18, 100.27it/s]"
     ]
    },
    {
     "name": "stdout",
     "output_type": "stream",
     "text": [
      "5.6084316815376285\n"
     ]
    },
    {
     "name": "stderr",
     "output_type": "stream",
     "text": [
      "60010it [09:58, 100.20it/s]"
     ]
    },
    {
     "name": "stdout",
     "output_type": "stream",
     "text": [
      "5.604280328607559\n"
     ]
    },
    {
     "name": "stderr",
     "output_type": "stream",
     "text": [
      "70020it [11:38, 100.29it/s]"
     ]
    },
    {
     "name": "stdout",
     "output_type": "stream",
     "text": [
      "5.6098611792564395\n"
     ]
    },
    {
     "name": "stderr",
     "output_type": "stream",
     "text": [
      "80019it [13:17, 100.56it/s]"
     ]
    },
    {
     "name": "stdout",
     "output_type": "stream",
     "text": [
      "5.59968207859993\n"
     ]
    },
    {
     "name": "stderr",
     "output_type": "stream",
     "text": [
      "90018it [14:57, 100.30it/s]"
     ]
    },
    {
     "name": "stdout",
     "output_type": "stream",
     "text": [
      "5.605667515230179\n"
     ]
    },
    {
     "name": "stderr",
     "output_type": "stream",
     "text": [
      "100017it [16:36, 100.27it/s]"
     ]
    },
    {
     "name": "stdout",
     "output_type": "stream",
     "text": [
      "5.5997361557006835\n"
     ]
    },
    {
     "name": "stderr",
     "output_type": "stream",
     "text": [
      "106738it [17:43, 100.46it/s]"
     ]
    },
    {
     "ename": "KeyboardInterrupt",
     "evalue": "",
     "output_type": "error",
     "traceback": [
      "\u001b[0;31m---------------------------------------------------------------------------\u001b[0m",
      "\u001b[0;31mKeyboardInterrupt\u001b[0m                         Traceback (most recent call last)",
      "\u001b[0;32m<ipython-input-14-473a375e033b>\u001b[0m in \u001b[0;36m<module>\u001b[0;34m\u001b[0m\n\u001b[1;32m     12\u001b[0m         \u001b[0moptimizer\u001b[0m\u001b[0;34m.\u001b[0m\u001b[0mstep\u001b[0m\u001b[0;34m(\u001b[0m\u001b[0;34m)\u001b[0m\u001b[0;34m\u001b[0m\u001b[0m\n\u001b[1;32m     13\u001b[0m \u001b[0;34m\u001b[0m\u001b[0m\n\u001b[0;32m---> 14\u001b[0;31m         \u001b[0mlosses\u001b[0m\u001b[0;34m.\u001b[0m\u001b[0mappend\u001b[0m\u001b[0;34m(\u001b[0m\u001b[0mfloat\u001b[0m\u001b[0;34m(\u001b[0m\u001b[0mloss\u001b[0m\u001b[0;34m.\u001b[0m\u001b[0mcpu\u001b[0m\u001b[0;34m(\u001b[0m\u001b[0;34m)\u001b[0m\u001b[0;34m.\u001b[0m\u001b[0mdata\u001b[0m\u001b[0;34m.\u001b[0m\u001b[0mnumpy\u001b[0m\u001b[0;34m(\u001b[0m\u001b[0;34m)\u001b[0m\u001b[0;34m)\u001b[0m\u001b[0;34m)\u001b[0m\u001b[0;34m\u001b[0m\u001b[0m\n\u001b[0m\u001b[1;32m     15\u001b[0m         \u001b[0;32mif\u001b[0m \u001b[0;34m(\u001b[0m\u001b[0mi\u001b[0m \u001b[0;34m+\u001b[0m \u001b[0;36m1\u001b[0m\u001b[0;34m)\u001b[0m \u001b[0;34m%\u001b[0m \u001b[0;36m10000\u001b[0m \u001b[0;34m==\u001b[0m \u001b[0;36m0\u001b[0m\u001b[0;34m:\u001b[0m\u001b[0;34m\u001b[0m\u001b[0m\n\u001b[1;32m     16\u001b[0m             \u001b[0mprint\u001b[0m\u001b[0;34m(\u001b[0m\u001b[0mnp\u001b[0m\u001b[0;34m.\u001b[0m\u001b[0mmean\u001b[0m\u001b[0;34m(\u001b[0m\u001b[0mlosses\u001b[0m\u001b[0;34m[\u001b[0m\u001b[0;34m-\u001b[0m\u001b[0;36m10000\u001b[0m\u001b[0;34m:\u001b[0m\u001b[0;34m]\u001b[0m\u001b[0;34m)\u001b[0m\u001b[0;34m)\u001b[0m\u001b[0;34m\u001b[0m\u001b[0m\n",
      "\u001b[0;31mKeyboardInterrupt\u001b[0m: "
     ]
    }
   ],
   "source": [
    "losses = []\n",
    "for epoch in range(30):\n",
    "    for i, (x, y) in tqdm(enumerate(batcher)):\n",
    "        x_torch = torch.LongTensor(x).to(device)\n",
    "        y_torch = torch.LongTensor(y).to(device)\n",
    "        \n",
    "        activations = model(x_torch)\n",
    "        loss = CE_loss(activations, y_torch)\n",
    "        \n",
    "        optimizer.zero_grad()\n",
    "        loss.backward()\n",
    "        optimizer.step()\n",
    "        \n",
    "        losses.append(float(loss.cpu().data.numpy()))\n",
    "        if (i + 1) % 10000 == 0:\n",
    "            print(np.mean(losses[-10000:]))"
   ]
  },
  {
   "cell_type": "markdown",
   "metadata": {},
   "source": [
    "## График скользящего среднего loss'a. \n",
    "## Видно, что сходится, но плато не достигается(дольше тренировать нету возможности)"
   ]
  },
  {
   "cell_type": "code",
   "execution_count": 15,
   "metadata": {},
   "outputs": [
    {
     "data": {
      "image/png": "[encoded data removed]",
      "text/plain": [
       "<Figure size 720x720 with 1 Axes>"
      ]
     },
     "metadata": {
      "needs_background": "light"
     },
     "output_type": "display_data"
    },
    {
     "name": "stderr",
     "output_type": "stream",
     "text": [
      "\r",
      "106738it [18:00, 100.46it/s]"
     ]
    }
   ],
   "source": [
    "m = np.convolve(losses, np.ones(1000) / 1000)\n",
    "plt.figure(figsize=(10, 10))\n",
    "plt.plot(m[1000:-1000])\n",
    "plt.yscale('log')\n",
    "plt.show()"
   ]
  },
  {
   "cell_type": "markdown",
   "metadata": {},
   "source": [
    "## Выбираем частые слова для визуализации"
   ]
  },
  {
   "cell_type": "code",
   "execution_count": 16,
   "metadata": {},
   "outputs": [],
   "source": [
    "from collections import Counter\n",
    "c = Counter()\n",
    "for sent in corpus:\n",
    "    c.update(sent)"
   ]
  },
  {
   "cell_type": "code",
   "execution_count": 17,
   "metadata": {},
   "outputs": [],
   "source": [
    "words = sorted(c.keys(), key=lambda item: c[item], reverse=True)[:10000]\n",
    "words = np.random.choice(words, 300, replace=False)"
   ]
  },
  {
   "cell_type": "code",
   "execution_count": 18,
   "metadata": {
    "scrolled": true
   },
   "outputs": [
    {
     "data": {
      "text/plain": [
       "array(['gave', 'namely', 'wasn', 'than', 'archaeology', 'reduce',\n",
       "       'conditions', 'satellites', 'mile', 'definitions', 'mid',\n",
       "       'imports', 'progress', 'warfare', 'verbal', 'pseudonym', 'when',\n",
       "       'venezuela', 'ruling', 'object', 'overthrown', 'esperanto',\n",
       "       'stake', 'intense', 'rousseau', 'absent', 'metallica', 'tubes',\n",
       "       'sign', 'mishnah', 'electorate', 'incest', 'francisco', 'laid',\n",
       "       'exchanged', 'per', 'geneva', 'flora', 'gel', 'submitted', 'warm',\n",
       "       'taxes', 'boiling', 'what', 'darker', 'substrate', 'western',\n",
       "       'illness', 'be', 'grown', 'exercised', 'advisor', 'reported',\n",
       "       'infant', 'applies', 'epistle', 'pointed', 'segments', 'court',\n",
       "       'autonomy', 'invasions', 'debates', 'carey', 'mount', 'autism',\n",
       "       'equally', 'maintained', 'estimate', 'enemies', 'bassist', 'cm',\n",
       "       'factions', 'kabul', 'which', 'infrastructure', 'vii', 'bremen',\n",
       "       'operate', 'named', 'fr', 'italian', 'heavier', 'equivalent',\n",
       "       'massachusetts', 'pitch', 'society', 'distinct', 'explorers',\n",
       "       'ulrich', 'overcome', 'run', 'recalled', 'violated', 'adapted',\n",
       "       'sales', 'currently', 'biggest', 'leagues', 'lane', 'cole',\n",
       "       'shown', 'defining', 'lisa', 'games', 'nm', 'wired', 'stored',\n",
       "       'expertise', 'cycles', 'greece', 'lindy', 'brutal', 'eve',\n",
       "       'attracted', 'centred', 'linguistics', 'holding', 'psychology',\n",
       "       'skills', 'side', 'colorado', 'banach', 'alexandria', 'novelists',\n",
       "       'shelter', 'aka', 'decides', 'common', 'fierce', 'discrimination',\n",
       "       'braves', 'ddt', 'adjustment', 'chemical', 'gary', 'brazilian',\n",
       "       'finest', 'motivation', 'glossary', 'browser', 'kenneth',\n",
       "       'costume', 'indeed', 'gases', 'grammy', 'extension', 'apollo',\n",
       "       'framework', 'helix', 'org', 'merger', 'stay', 'lib', 'properly',\n",
       "       'treaties', 'metric', 'estates', 'education', 'correspond',\n",
       "       'explored', 'originating', 'before', 'seminal', 'stack',\n",
       "       'formulation', 'worlds', 'costello', 'speaker', 'campaign', 'next',\n",
       "       'sending', 'popularized', 'creators', 'actually', 'failures',\n",
       "       'founder', 'withdrew', 'evidence', 'geographical', 'differing',\n",
       "       'helped', 'sport', 'officer', 'mythological', 'derby', 'monaco',\n",
       "       'dissolved', 'physics', 'headquarters', 'kilometres', 'derive',\n",
       "       'stockholm', 'recordings', 'wise', 'phrase', 'saga', 'diverse',\n",
       "       'competitor', 'zappa', 'ceremonies', 'jackie', 'transparent',\n",
       "       'messages', 'song', 'prior', 'downward', 'acres', 'fricative',\n",
       "       'vietnam', 'synagogue', 'wooden', 'bangladesh', 'liberation',\n",
       "       'absinthe', 'attendance', 'icelandic', 'employee', 'clusters',\n",
       "       'develop', 'encouraging', 'headed', 'dish', 'iliad', 'munich',\n",
       "       'others', 'andrew', 'provinces', 'perl', 'meetings', 'dental',\n",
       "       'dances', 'used', 'flee', 'dynamics', 'its', 'minute',\n",
       "       'universities', 'shepherd', 'objective', 'actor', 'strategies',\n",
       "       'martin', 'valves', 'lawsuit', 'noticed', 'modest', 'surface',\n",
       "       'everywhere', 'pursue', 'thatcher', 'legends', 'exchange', 'auto',\n",
       "       'schemes', 'businessman', 'escaped', 'lighting', 'memes',\n",
       "       'controversy', 'football', 'claiming', 'politics', 'arm', 'bruno',\n",
       "       'difficulties', 'fields', 'windows', 'particularly', 'russian',\n",
       "       'bent', 'enormous', 'regions', 'investigation', 'nonetheless',\n",
       "       'ports', 'torah', 'disciples', 'salvation', 'solid', 'unpaved',\n",
       "       'expanding', 'lion', 'riemann', 'actual', 'typically',\n",
       "       'theological', 'airports', 'replication', 'milan', 'genetics',\n",
       "       'reservoir', 'keep', 'burroughs', 'shadow', 'drew', 'minneapolis',\n",
       "       'experienced', 'according', 'possibility', 'insubstantial'],\n",
       "      dtype='<U18')"
      ]
     },
     "execution_count": 18,
     "metadata": {},
     "output_type": "execute_result"
    }
   ],
   "source": [
    "words"
   ]
  },
  {
   "cell_type": "code",
   "execution_count": 23,
   "metadata": {},
   "outputs": [],
   "source": [
    "v = get_encode_emb(words, model, batcher, device)"
   ]
  },
  {
   "cell_type": "code",
   "execution_count": 24,
   "metadata": {},
   "outputs": [],
   "source": [
    "from sklearn.manifold import TSNE\n",
    "X = TSNE(n_components=2).fit_transform(v)"
   ]
  },
  {
   "cell_type": "code",
   "execution_count": 25,
   "metadata": {},
   "outputs": [
    {
     "data": {
      "image/png": "[encoded data removed]",
      "text/plain": [
       "<Figure size 1440x1440 with 1 Axes>"
      ]
     },
     "metadata": {
      "needs_background": "light"
     },
     "output_type": "display_data"
    }
   ],
   "source": [
    "plot_embeddings(X, batcher.word2ind, words)"
   ]
  },
  {
   "cell_type": "markdown",
   "metadata": {},
   "source": [
    "## T-SNE проекция получается осмысленной, с ближайшими соседями хуже"
   ]
  },
  {
   "cell_type": "code",
   "execution_count": 26,
   "metadata": {},
   "outputs": [],
   "source": [
    "from part3 import Index"
   ]
  },
  {
   "cell_type": "code",
   "execution_count": 27,
   "metadata": {},
   "outputs": [
    {
     "name": "stdout",
     "output_type": "stream",
     "text": [
      "CPU times: user 7.29 s, sys: 195 ms, total: 7.49 s\n",
      "Wall time: 7.49 s\n"
     ]
    }
   ],
   "source": [
    "%%time\n",
    "idx = Index(model, vocab, batcher, get_encode_emb, device)"
   ]
  },
  {
   "cell_type": "code",
   "execution_count": 28,
   "metadata": {},
   "outputs": [
    {
     "data": {
      "text/plain": [
       "[('teen', 0.0),\n",
       " ('muppet', 0.7255322114299183),\n",
       " ('trivia', 0.7415080122254372),\n",
       " ('appearing', 0.7458594788243289),\n",
       " ('sitcom', 0.7732851282940906),\n",
       " ('brooks', 0.7784082992387681),\n",
       " ('favorite', 0.7814683227659931),\n",
       " ('carey', 0.7821676205872363),\n",
       " ('lois', 0.7829561676555196),\n",
       " ('crosby', 0.7871297071684787),\n",
       " ('frankie', 0.7889013597983199),\n",
       " ('spears', 0.7890681653716403),\n",
       " ('acclaimed', 0.7898278254593095),\n",
       " ('filmed', 0.794169789541962),\n",
       " ('parody', 0.7965237460431165),\n",
       " ('syndicated', 0.7966724961225824),\n",
       " ('kid', 0.7974853795902768),\n",
       " ('dubbed', 0.7977139787398636),\n",
       " ('guest', 0.7978913800355422),\n",
       " ('cartoon', 0.7983785170774335)]"
      ]
     },
     "execution_count": 28,
     "metadata": {},
     "output_type": "execute_result"
    }
   ],
   "source": [
    "idx.most_similar(['teen'], k=20)"
   ]
  },
  {
   "cell_type": "code",
   "execution_count": 29,
   "metadata": {},
   "outputs": [
    {
     "data": {
      "text/plain": [
       "[('man', 0.0),\n",
       " ('spider', 0.6134965846581438),\n",
       " ('woman', 0.6826546458170687),\n",
       " ('isle', 0.6874171553895307),\n",
       " ('young', 0.8078856754179026),\n",
       " ('wise', 0.8138908073379537),\n",
       " ('girl', 0.8440900753054659),\n",
       " ('creature', 0.8709286931102144),\n",
       " ('beautiful', 0.8729832431893548),\n",
       " ('god', 0.8950624512882245),\n",
       " ('invisible', 0.895085392186877),\n",
       " ('devil', 0.897410792962046),\n",
       " ('strange', 0.8984050910743463),\n",
       " ('baby', 0.9025920839962942),\n",
       " ('angry', 0.9049709436062104),\n",
       " ('amazing', 0.9055597373135152),\n",
       " ('dream', 0.9083972354307651),\n",
       " ('tells', 0.9087463723048615),\n",
       " ('eyes', 0.9102940270919486),\n",
       " ('wonder', 0.9104475611166598)]"
      ]
     },
     "execution_count": 29,
     "metadata": {},
     "output_type": "execute_result"
    }
   ],
   "source": [
    "idx.most_similar(['man'], k=20)"
   ]
  },
  {
   "cell_type": "code",
   "execution_count": 30,
   "metadata": {},
   "outputs": [
    {
     "data": {
      "text/plain": [
       "[('king', 0.6334093834574934),\n",
       " ('crowned', 0.7890655970748703),\n",
       " ('afonso', 0.7930471823102385),\n",
       " ('castile', 0.8041039730663179),\n",
       " ('vii', 0.8048912457045387),\n",
       " ('alfonso', 0.8341546699989997),\n",
       " ('aragon', 0.8368464011903144),\n",
       " ('viii', 0.8389194103678732),\n",
       " ('sons', 0.8560982743763518),\n",
       " ('philip', 0.8577284210634969),\n",
       " ('daughter', 0.8583436846494711),\n",
       " ('iv', 0.860563739155959),\n",
       " ('succeeded', 0.861068375015789),\n",
       " ('eldest', 0.8658100908064569),\n",
       " ('illegitimate', 0.8700643709638193),\n",
       " ('reigned', 0.8727585830725368),\n",
       " ('bohemia', 0.8772487694271541),\n",
       " ('vi', 0.8777942659107763),\n",
       " ('heir', 0.8824875495183666),\n",
       " ('cousin', 0.8827582823722135)]"
      ]
     },
     "execution_count": 30,
     "metadata": {},
     "output_type": "execute_result"
    }
   ],
   "source": [
    "idx.most_similar(pos=['woman', 'king'], neg=['man'], k=20)"
   ]
  },
  {
   "cell_type": "code",
   "execution_count": 31,
   "metadata": {},
   "outputs": [
    {
     "data": {
      "text/plain": [
       "[('usa', 0.8237642598980093),\n",
       " ('london', 0.8904715958037908),\n",
       " ('underground', 0.9185588482116258),\n",
       " ('toronto', 0.9300565227641779),\n",
       " ('ltd', 0.9356295682480874),\n",
       " ('metro', 0.9536678144309604),\n",
       " ('routledge', 0.9543347732569946),\n",
       " ('opened', 0.9551266460926223),\n",
       " ('helsinki', 0.957040498649906),\n",
       " ('tokyo', 0.9586101042480202),\n",
       " ('publishing', 0.9611856403805368),\n",
       " ('manhattan', 0.9817817073526752),\n",
       " ('tower', 0.9876645240865592),\n",
       " ('ny', 0.9884124789356036),\n",
       " ('oklahoma', 0.9914750372167626),\n",
       " ('gallery', 0.9916055429411412),\n",
       " ('railway', 0.9917022840263743),\n",
       " ('denver', 0.9960296909453042),\n",
       " ('philadelphia', 0.9963832060667769),\n",
       " ('chrysler', 0.996536665037595)]"
      ]
     },
     "execution_count": 31,
     "metadata": {},
     "output_type": "execute_result"
    }
   ],
   "source": [
    "idx.most_similar(pos=['usa', 'london'], neg=['england'], k=20)"
   ]
  },
  {
   "cell_type": "code",
   "execution_count": null,
   "metadata": {},
   "outputs": [],
   "source": []
  },
  {
   "cell_type": "code",
   "execution_count": null,
   "metadata": {},
   "outputs": [],
   "source": []
  }
 ],
 "metadata": {
  "kernelspec": {
   "display_name": "Python 3",
   "language": "python",
   "name": "python3"
  }
 },
 "nbformat": 4,
 "nbformat_minor": 2
}
